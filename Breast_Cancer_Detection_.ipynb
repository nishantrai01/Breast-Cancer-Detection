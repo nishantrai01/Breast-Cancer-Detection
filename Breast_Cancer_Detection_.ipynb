{
  "nbformat": 4,
  "nbformat_minor": 0,
  "metadata": {
    "colab": {
      "provenance": []
    },
    "kernelspec": {
      "name": "python3",
      "display_name": "Python 3"
    },
    "language_info": {
      "name": "python"
    }
  },
  "cells": [
    {
      "cell_type": "markdown",
      "source": [
        "##Importing libraries"
      ],
      "metadata": {
        "id": "r_DiRegPKkok"
      }
    },
    {
      "cell_type": "code",
      "source": [
        "import pandas as pd\n",
        "import numpy as np\n",
        "import matplotlib.pyplot as plt\n",
        "%matplotlib inline"
      ],
      "metadata": {
        "id": "sBb4goip70MQ"
      },
      "execution_count": 1,
      "outputs": []
    },
    {
      "cell_type": "markdown",
      "source": [
        "##Importing dataset"
      ],
      "metadata": {
        "id": "ohHezYcwKnhO"
      }
    },
    {
      "cell_type": "code",
      "source": [
        "dataset = pd.read_csv(\"/content/breast_cancer.csv\")\n",
        "X = dataset.iloc[:,1:-1].values\n",
        "y = dataset.iloc[:,-1].values"
      ],
      "metadata": {
        "id": "_51VP1cR_AxK"
      },
      "execution_count": 2,
      "outputs": []
    },
    {
      "cell_type": "code",
      "source": [
        "print(dataset.shape)"
      ],
      "metadata": {
        "colab": {
          "base_uri": "https://localhost:8080/"
        },
        "id": "myQbUIMw9dHz",
        "outputId": "38263bc5-0153-4a76-8d26-d9955edd514c"
      },
      "execution_count": 3,
      "outputs": [
        {
          "output_type": "stream",
          "name": "stdout",
          "text": [
            "(683, 11)\n"
          ]
        }
      ]
    },
    {
      "cell_type": "code",
      "source": [
        "dataset.info()"
      ],
      "metadata": {
        "colab": {
          "base_uri": "https://localhost:8080/"
        },
        "id": "MJCHAJo_EE6l",
        "outputId": "4f118f68-9a95-4e92-8215-6ec5548acaae"
      },
      "execution_count": 4,
      "outputs": [
        {
          "output_type": "stream",
          "name": "stdout",
          "text": [
            "<class 'pandas.core.frame.DataFrame'>\n",
            "RangeIndex: 683 entries, 0 to 682\n",
            "Data columns (total 11 columns):\n",
            " #   Column                       Non-Null Count  Dtype\n",
            "---  ------                       --------------  -----\n",
            " 0   Sample code number           683 non-null    int64\n",
            " 1   Clump Thickness              683 non-null    int64\n",
            " 2   Uniformity of Cell Size      683 non-null    int64\n",
            " 3   Uniformity of Cell Shape     683 non-null    int64\n",
            " 4   Marginal Adhesion            683 non-null    int64\n",
            " 5   Single Epithelial Cell Size  683 non-null    int64\n",
            " 6   Bare Nuclei                  683 non-null    int64\n",
            " 7   Bland Chromatin              683 non-null    int64\n",
            " 8   Normal Nucleoli              683 non-null    int64\n",
            " 9   Mitoses                      683 non-null    int64\n",
            " 10  Class                        683 non-null    int64\n",
            "dtypes: int64(11)\n",
            "memory usage: 58.8 KB\n"
          ]
        }
      ]
    },
    {
      "cell_type": "code",
      "source": [
        "print(dataset.describe())"
      ],
      "metadata": {
        "colab": {
          "base_uri": "https://localhost:8080/"
        },
        "id": "o04jzQRT-ymr",
        "outputId": "57c76c5d-0827-4c2d-c503-b94c6828b9c2"
      },
      "execution_count": 5,
      "outputs": [
        {
          "output_type": "stream",
          "name": "stdout",
          "text": [
            "       Sample code number  Clump Thickness  Uniformity of Cell Size  \\\n",
            "count        6.830000e+02       683.000000               683.000000   \n",
            "mean         1.076720e+06         4.442167                 3.150805   \n",
            "std          6.206440e+05         2.820761                 3.065145   \n",
            "min          6.337500e+04         1.000000                 1.000000   \n",
            "25%          8.776170e+05         2.000000                 1.000000   \n",
            "50%          1.171795e+06         4.000000                 1.000000   \n",
            "75%          1.238705e+06         6.000000                 5.000000   \n",
            "max          1.345435e+07        10.000000                10.000000   \n",
            "\n",
            "       Uniformity of Cell Shape  Marginal Adhesion  \\\n",
            "count                683.000000         683.000000   \n",
            "mean                   3.215227           2.830161   \n",
            "std                    2.988581           2.864562   \n",
            "min                    1.000000           1.000000   \n",
            "25%                    1.000000           1.000000   \n",
            "50%                    1.000000           1.000000   \n",
            "75%                    5.000000           4.000000   \n",
            "max                   10.000000          10.000000   \n",
            "\n",
            "       Single Epithelial Cell Size  Bare Nuclei  Bland Chromatin  \\\n",
            "count                   683.000000   683.000000       683.000000   \n",
            "mean                      3.234261     3.544656         3.445095   \n",
            "std                       2.223085     3.643857         2.449697   \n",
            "min                       1.000000     1.000000         1.000000   \n",
            "25%                       2.000000     1.000000         2.000000   \n",
            "50%                       2.000000     1.000000         3.000000   \n",
            "75%                       4.000000     6.000000         5.000000   \n",
            "max                      10.000000    10.000000        10.000000   \n",
            "\n",
            "       Normal Nucleoli     Mitoses       Class  \n",
            "count       683.000000  683.000000  683.000000  \n",
            "mean          2.869693    1.603221    2.699854  \n",
            "std           3.052666    1.732674    0.954592  \n",
            "min           1.000000    1.000000    2.000000  \n",
            "25%           1.000000    1.000000    2.000000  \n",
            "50%           1.000000    1.000000    2.000000  \n",
            "75%           4.000000    1.000000    4.000000  \n",
            "max          10.000000   10.000000    4.000000  \n"
          ]
        }
      ]
    },
    {
      "cell_type": "markdown",
      "source": [
        "##Split the data for Training and Testing"
      ],
      "metadata": {
        "id": "a6xGp5eiKqOI"
      }
    },
    {
      "cell_type": "code",
      "source": [
        "from sklearn.model_selection import train_test_split\n",
        "X_train, X_test, y_train, y_test = train_test_split(X,y,test_size=0.25,random_state=0)"
      ],
      "metadata": {
        "id": "xR3xpQ0MCXGE"
      },
      "execution_count": 6,
      "outputs": []
    },
    {
      "cell_type": "markdown",
      "source": [
        "##Feature Scaling"
      ],
      "metadata": {
        "id": "6fjVvYkLxMGG"
      }
    },
    {
      "cell_type": "code",
      "source": [
        "from sklearn.preprocessing import StandardScaler\n",
        "sc = StandardScaler()\n",
        "X_train = sc.fit_transform(X_train)\n",
        "X_test = sc.transform(X_test)"
      ],
      "metadata": {
        "id": "D4LDWMuNxLEc"
      },
      "execution_count": 7,
      "outputs": []
    },
    {
      "cell_type": "markdown",
      "source": [
        "##Logistic Regression Classification"
      ],
      "metadata": {
        "id": "UnjU2kzsx8Li"
      }
    },
    {
      "cell_type": "markdown",
      "source": [
        "Training LogisticRegression Model"
      ],
      "metadata": {
        "id": "3UMkJ4EX0imL"
      }
    },
    {
      "cell_type": "code",
      "source": [
        "from sklearn.linear_model import LogisticRegression\n",
        "classifier1 = LogisticRegression(random_state=0)\n",
        "classifier1.fit(X_train,y_train)"
      ],
      "metadata": {
        "colab": {
          "base_uri": "https://localhost:8080/"
        },
        "id": "6eXOJXTL0hYd",
        "outputId": "a2c58757-0bda-4a68-de09-77f8e4adcc53"
      },
      "execution_count": 8,
      "outputs": [
        {
          "output_type": "execute_result",
          "data": {
            "text/plain": [
              "LogisticRegression(random_state=0)"
            ]
          },
          "metadata": {},
          "execution_count": 8
        }
      ]
    },
    {
      "cell_type": "markdown",
      "source": [
        "Creating Confusion Matrix and Accuracy Score"
      ],
      "metadata": {
        "id": "Cmdw9Uu-K5D4"
      }
    },
    {
      "cell_type": "code",
      "source": [
        "from sklearn.metrics import confusion_matrix, accuracy_score\n",
        "y_pred = classifier1.predict(X_test)\n",
        "cm = confusion_matrix(y_test, y_pred)\n",
        "print(cm)\n",
        "print('Accuracy: {:.2f}%'.format(accuracy_score(y_test, y_pred)*100))"
      ],
      "metadata": {
        "colab": {
          "base_uri": "https://localhost:8080/"
        },
        "id": "gW0P-CZ-DPo5",
        "outputId": "af6e4614-dc09-45e0-911a-44bdb9cd8dfa"
      },
      "execution_count": 9,
      "outputs": [
        {
          "output_type": "stream",
          "name": "stdout",
          "text": [
            "[[103   4]\n",
            " [  5  59]]\n",
            "Accuracy: 94.74%\n"
          ]
        }
      ]
    },
    {
      "cell_type": "markdown",
      "source": [
        "##k_nearest_neighbors"
      ],
      "metadata": {
        "id": "9teuMfDXyFZ1"
      }
    },
    {
      "cell_type": "markdown",
      "source": [
        "Training k_nearest_neighbors Model"
      ],
      "metadata": {
        "id": "LpPM8Ovv0zug"
      }
    },
    {
      "cell_type": "code",
      "source": [
        "from sklearn.neighbors import KNeighborsClassifier\n",
        "classifier2 = KNeighborsClassifier(n_neighbors = 5, metric = 'minkowski', p = 2)\n",
        "classifier2.fit(X_train, y_train)"
      ],
      "metadata": {
        "colab": {
          "base_uri": "https://localhost:8080/"
        },
        "id": "Ef7JbmS4yhe1",
        "outputId": "57093e70-7830-40a1-96a5-e5d8d82fea06"
      },
      "execution_count": 10,
      "outputs": [
        {
          "output_type": "execute_result",
          "data": {
            "text/plain": [
              "KNeighborsClassifier()"
            ]
          },
          "metadata": {},
          "execution_count": 10
        }
      ]
    },
    {
      "cell_type": "markdown",
      "source": [
        "Creating Confusion Matrix and Accuracy Score"
      ],
      "metadata": {
        "id": "n3oy5BeF00Rb"
      }
    },
    {
      "cell_type": "code",
      "source": [
        "from sklearn.metrics import confusion_matrix, accuracy_score\n",
        "y_pred = classifier2.predict(X_test)\n",
        "cm = confusion_matrix(y_test, y_pred)\n",
        "print(cm)\n",
        "print('Accuracy: {:.2f}%'.format(accuracy_score(y_test, y_pred)*100))"
      ],
      "metadata": {
        "colab": {
          "base_uri": "https://localhost:8080/"
        },
        "id": "SmxF9MYEyrIi",
        "outputId": "2adfe22c-2073-4132-8117-45ffe44beeac"
      },
      "execution_count": 11,
      "outputs": [
        {
          "output_type": "stream",
          "name": "stdout",
          "text": [
            "[[103   4]\n",
            " [  5  59]]\n",
            "Accuracy: 94.74%\n"
          ]
        }
      ]
    },
    {
      "cell_type": "markdown",
      "source": [
        "##Support_Vector_Machine"
      ],
      "metadata": {
        "id": "26sdNt89yQeV"
      }
    },
    {
      "cell_type": "markdown",
      "source": [
        "Training Support Vector Machine Model"
      ],
      "metadata": {
        "id": "IfiHA7H809nM"
      }
    },
    {
      "cell_type": "code",
      "source": [
        "from sklearn.svm import SVC\n",
        "classifier3 = SVC(kernel = 'linear', random_state = 0)\n",
        "classifier3.fit(X_train, y_train)"
      ],
      "metadata": {
        "colab": {
          "base_uri": "https://localhost:8080/"
        },
        "id": "11RwOSOWy3BM",
        "outputId": "0fe501b0-8ac1-43bf-9bb9-f008f6a06792"
      },
      "execution_count": 12,
      "outputs": [
        {
          "output_type": "execute_result",
          "data": {
            "text/plain": [
              "SVC(kernel='linear', random_state=0)"
            ]
          },
          "metadata": {},
          "execution_count": 12
        }
      ]
    },
    {
      "cell_type": "markdown",
      "source": [
        "Creating Confusion Matrix and Accuracy Score"
      ],
      "metadata": {
        "id": "riDkqP-l0-uu"
      }
    },
    {
      "cell_type": "code",
      "source": [
        "from sklearn.metrics import confusion_matrix, accuracy_score\n",
        "y_pred = classifier3.predict(X_test)\n",
        "cm = confusion_matrix(y_test, y_pred)\n",
        "print(cm)\n",
        "print('Accuracy: {:.2f}%'.format(accuracy_score(y_test, y_pred)*100))"
      ],
      "metadata": {
        "colab": {
          "base_uri": "https://localhost:8080/"
        },
        "id": "so6-A_zryiNc",
        "outputId": "d43afb79-2356-4ef8-f6be-1431927a2b43"
      },
      "execution_count": 13,
      "outputs": [
        {
          "output_type": "stream",
          "name": "stdout",
          "text": [
            "[[102   5]\n",
            " [  5  59]]\n",
            "Accuracy: 94.15%\n"
          ]
        }
      ]
    },
    {
      "cell_type": "markdown",
      "source": [
        "##Kernel_Svm"
      ],
      "metadata": {
        "id": "ZlGkyPMmyQbb"
      }
    },
    {
      "cell_type": "markdown",
      "source": [
        "Training Kernel_svm Model"
      ],
      "metadata": {
        "id": "1ioyTzNm1zEC"
      }
    },
    {
      "cell_type": "code",
      "source": [
        "from sklearn.svm import SVC\n",
        "classifier4 = SVC(kernel = 'rbf', random_state = 0)\n",
        "classifier4.fit(X_train, y_train)"
      ],
      "metadata": {
        "colab": {
          "base_uri": "https://localhost:8080/"
        },
        "id": "Mw2Xv3H5y5wj",
        "outputId": "8604af70-6fe6-49bd-b21f-d666ffb58133"
      },
      "execution_count": 14,
      "outputs": [
        {
          "output_type": "execute_result",
          "data": {
            "text/plain": [
              "SVC(random_state=0)"
            ]
          },
          "metadata": {},
          "execution_count": 14
        }
      ]
    },
    {
      "cell_type": "markdown",
      "source": [
        "Creating Confusion Matrix and Accuracy Score"
      ],
      "metadata": {
        "id": "KVADZdo-1AGp"
      }
    },
    {
      "cell_type": "code",
      "source": [
        "from sklearn.metrics import confusion_matrix, accuracy_score\n",
        "y_pred = classifier4.predict(X_test)\n",
        "cm = confusion_matrix(y_test, y_pred)\n",
        "print(cm)\n",
        "print('Accuracy: {:.2f}%'.format(accuracy_score(y_test, y_pred)*100))"
      ],
      "metadata": {
        "colab": {
          "base_uri": "https://localhost:8080/"
        },
        "id": "6BjwZE5vyi2t",
        "outputId": "5c543b2f-8cb6-4397-f051-65f28e4ee01d"
      },
      "execution_count": 15,
      "outputs": [
        {
          "output_type": "stream",
          "name": "stdout",
          "text": [
            "[[101   6]\n",
            " [  3  61]]\n",
            "Accuracy: 94.74%\n"
          ]
        }
      ]
    },
    {
      "cell_type": "markdown",
      "source": [
        "##Naive_Bayes"
      ],
      "metadata": {
        "id": "8KaJI9ldyQUZ"
      }
    },
    {
      "cell_type": "markdown",
      "source": [
        "Training Naive Bayes Model"
      ],
      "metadata": {
        "id": "OGo-PWr_1hPR"
      }
    },
    {
      "cell_type": "code",
      "source": [
        "from sklearn.naive_bayes import GaussianNB\n",
        "classifier5 = GaussianNB()\n",
        "classifier5.fit(X_train, y_train)"
      ],
      "metadata": {
        "colab": {
          "base_uri": "https://localhost:8080/"
        },
        "id": "fUT28Mjjy68e",
        "outputId": "f9eb2c51-4caa-4a4e-e5ff-95d9dab300a5"
      },
      "execution_count": 16,
      "outputs": [
        {
          "output_type": "execute_result",
          "data": {
            "text/plain": [
              "GaussianNB()"
            ]
          },
          "metadata": {},
          "execution_count": 16
        }
      ]
    },
    {
      "cell_type": "markdown",
      "source": [
        "Creating Confusion Matrix and Accuracy Score"
      ],
      "metadata": {
        "id": "cldf59b01BHj"
      }
    },
    {
      "cell_type": "code",
      "source": [
        "from sklearn.metrics import confusion_matrix, accuracy_score\n",
        "y_pred = classifier5.predict(X_test)\n",
        "cm = confusion_matrix(y_test, y_pred)\n",
        "print(cm)\n",
        "print('Accuracy: {:.2f}%'.format(accuracy_score(y_test, y_pred)*100))"
      ],
      "metadata": {
        "colab": {
          "base_uri": "https://localhost:8080/"
        },
        "id": "cRNHlj1pykOF",
        "outputId": "d5b93ef7-c9af-4897-ed9e-980bb5617036"
      },
      "execution_count": 17,
      "outputs": [
        {
          "output_type": "stream",
          "name": "stdout",
          "text": [
            "[[99  8]\n",
            " [ 2 62]]\n",
            "Accuracy: 94.15%\n"
          ]
        }
      ]
    },
    {
      "cell_type": "markdown",
      "source": [
        "##Random_Forest_Classification"
      ],
      "metadata": {
        "id": "XRyX6IfSyZYy"
      }
    },
    {
      "cell_type": "markdown",
      "source": [
        "Training Random Forest Classification Model"
      ],
      "metadata": {
        "id": "K7WlR1ae1Pp1"
      }
    },
    {
      "cell_type": "code",
      "source": [
        "from sklearn.ensemble import RandomForestClassifier\n",
        "classifier6 = RandomForestClassifier(n_estimators = 10, criterion = 'entropy', random_state = 0)\n",
        "classifier6.fit(X_train, y_train)"
      ],
      "metadata": {
        "colab": {
          "base_uri": "https://localhost:8080/"
        },
        "id": "eoIHHZbmy7tW",
        "outputId": "a6da2ad3-462d-4e98-b1d3-b9a6a8547d2b"
      },
      "execution_count": 18,
      "outputs": [
        {
          "output_type": "execute_result",
          "data": {
            "text/plain": [
              "RandomForestClassifier(criterion='entropy', n_estimators=10, random_state=0)"
            ]
          },
          "metadata": {},
          "execution_count": 18
        }
      ]
    },
    {
      "cell_type": "markdown",
      "source": [
        "Creating Confusion Matrix and Accuracy Score"
      ],
      "metadata": {
        "id": "f_RWZQJN1DcC"
      }
    },
    {
      "cell_type": "code",
      "source": [
        "from sklearn.metrics import confusion_matrix, accuracy_score\n",
        "y_pred = classifier6.predict(X_test)\n",
        "cm = confusion_matrix(y_test, y_pred)\n",
        "print(cm)\n",
        "print('Accuracy: {:.2f}%'.format(accuracy_score(y_test, y_pred)*100))"
      ],
      "metadata": {
        "colab": {
          "base_uri": "https://localhost:8080/"
        },
        "id": "hcBfq2v3ykwQ",
        "outputId": "d98ac9aa-e309-4bdf-f648-b74a8ec18507"
      },
      "execution_count": 19,
      "outputs": [
        {
          "output_type": "stream",
          "name": "stdout",
          "text": [
            "[[104   3]\n",
            " [  5  59]]\n",
            "Accuracy: 95.32%\n"
          ]
        }
      ]
    },
    {
      "cell_type": "markdown",
      "source": [
        "##Decision_Tree_Classification"
      ],
      "metadata": {
        "id": "VKvRHc76yZWF"
      }
    },
    {
      "cell_type": "markdown",
      "source": [
        "Training Decision Tree Classification Model"
      ],
      "metadata": {
        "id": "CmFEeimu1LpC"
      }
    },
    {
      "cell_type": "code",
      "source": [
        "from sklearn.tree import DecisionTreeClassifier\n",
        "classifier7 = DecisionTreeClassifier(criterion = 'entropy', random_state = 0)\n",
        "classifier7.fit(X_train, y_train)"
      ],
      "metadata": {
        "colab": {
          "base_uri": "https://localhost:8080/"
        },
        "id": "0fZn7q96y9Az",
        "outputId": "ab129dbe-abe3-4288-c470-b6637f0e83c1"
      },
      "execution_count": 20,
      "outputs": [
        {
          "output_type": "execute_result",
          "data": {
            "text/plain": [
              "DecisionTreeClassifier(criterion='entropy', random_state=0)"
            ]
          },
          "metadata": {},
          "execution_count": 20
        }
      ]
    },
    {
      "cell_type": "markdown",
      "source": [
        "Creating Confusion Matrix and Accuracy Score"
      ],
      "metadata": {
        "id": "FlHmYC6b1ERT"
      }
    },
    {
      "cell_type": "code",
      "source": [
        "from sklearn.metrics import confusion_matrix, accuracy_score\n",
        "y_pred = classifier7.predict(X_test)\n",
        "cm = confusion_matrix(y_test, y_pred)\n",
        "print(cm)\n",
        "print('Accuracy: {:.2f}%'.format(accuracy_score(y_test, y_pred)*100))"
      ],
      "metadata": {
        "id": "4ArZlxlpD_Ay",
        "colab": {
          "base_uri": "https://localhost:8080/"
        },
        "outputId": "864f56b6-811a-473c-91dd-fcdb7c0aeaeb"
      },
      "execution_count": 21,
      "outputs": [
        {
          "output_type": "stream",
          "name": "stdout",
          "text": [
            "[[104   3]\n",
            " [  4  60]]\n",
            "Accuracy: 95.91%\n"
          ]
        }
      ]
    },
    {
      "cell_type": "markdown",
      "source": [
        "We got highest accuracy of 95.90% with decision tree classification model."
      ],
      "metadata": {
        "id": "H2159nh55AhF"
      }
    },
    {
      "cell_type": "markdown",
      "source": [
        "##XGBoost"
      ],
      "metadata": {
        "id": "fkU-gRe9G9-w"
      }
    },
    {
      "cell_type": "code",
      "source": [
        "from xgboost import XGBClassifier\n",
        "xg_boost = XGBClassifier()\n",
        "xg_boost.fit(X_train,y_train)"
      ],
      "metadata": {
        "id": "3UpRkKkaziON",
        "colab": {
          "base_uri": "https://localhost:8080/"
        },
        "outputId": "5bfed31f-bad6-4ae3-b032-a7c9febfc271"
      },
      "execution_count": 22,
      "outputs": [
        {
          "output_type": "execute_result",
          "data": {
            "text/plain": [
              "XGBClassifier()"
            ]
          },
          "metadata": {},
          "execution_count": 22
        }
      ]
    },
    {
      "cell_type": "code",
      "source": [
        "from sklearn.metrics import confusion_matrix, accuracy_score\n",
        "y_pred = xg_boost.predict(X_test)\n",
        "cm = confusion_matrix(y_test, y_pred)\n",
        "print(cm)\n",
        "print('Accuracy: {:.2f}%'.format(accuracy_score(y_test, y_pred)*100))"
      ],
      "metadata": {
        "colab": {
          "base_uri": "https://localhost:8080/"
        },
        "id": "U35GQwDkGyKK",
        "outputId": "038ac0de-e388-4935-aaf3-c9418f6c417e"
      },
      "execution_count": 23,
      "outputs": [
        {
          "output_type": "stream",
          "name": "stdout",
          "text": [
            "[[103   4]\n",
            " [  5  59]]\n",
            "Accuracy: 94.74%\n"
          ]
        }
      ]
    },
    {
      "cell_type": "markdown",
      "source": [
        "##Catboost"
      ],
      "metadata": {
        "id": "oF0B6rYCJMNJ"
      }
    },
    {
      "cell_type": "code",
      "source": [
        "!pip install catboost"
      ],
      "metadata": {
        "colab": {
          "base_uri": "https://localhost:8080/"
        },
        "id": "OpuqX_6-HnLV",
        "outputId": "0279441f-c56f-49fa-f83c-d8b4a08c6c77"
      },
      "execution_count": 24,
      "outputs": [
        {
          "output_type": "stream",
          "name": "stdout",
          "text": [
            "Looking in indexes: https://pypi.org/simple, https://us-python.pkg.dev/colab-wheels/public/simple/\n",
            "Collecting catboost\n",
            "  Downloading catboost-1.1.1-cp38-none-manylinux1_x86_64.whl (76.6 MB)\n",
            "\u001b[2K     \u001b[90m━━━━━━━━━━━━━━━━━━━━━━━━━━━━━━━━━━━━━━━━\u001b[0m \u001b[32m76.6/76.6 MB\u001b[0m \u001b[31m9.1 MB/s\u001b[0m eta \u001b[36m0:00:00\u001b[0m\n",
            "\u001b[?25hRequirement already satisfied: six in /usr/local/lib/python3.8/dist-packages (from catboost) (1.15.0)\n",
            "Requirement already satisfied: graphviz in /usr/local/lib/python3.8/dist-packages (from catboost) (0.10.1)\n",
            "Requirement already satisfied: matplotlib in /usr/local/lib/python3.8/dist-packages (from catboost) (3.2.2)\n",
            "Requirement already satisfied: numpy>=1.16.0 in /usr/local/lib/python3.8/dist-packages (from catboost) (1.21.6)\n",
            "Requirement already satisfied: plotly in /usr/local/lib/python3.8/dist-packages (from catboost) (5.5.0)\n",
            "Requirement already satisfied: pandas>=0.24.0 in /usr/local/lib/python3.8/dist-packages (from catboost) (1.3.5)\n",
            "Requirement already satisfied: scipy in /usr/local/lib/python3.8/dist-packages (from catboost) (1.7.3)\n",
            "Requirement already satisfied: pytz>=2017.3 in /usr/local/lib/python3.8/dist-packages (from pandas>=0.24.0->catboost) (2022.7)\n",
            "Requirement already satisfied: python-dateutil>=2.7.3 in /usr/local/lib/python3.8/dist-packages (from pandas>=0.24.0->catboost) (2.8.2)\n",
            "Requirement already satisfied: kiwisolver>=1.0.1 in /usr/local/lib/python3.8/dist-packages (from matplotlib->catboost) (1.4.4)\n",
            "Requirement already satisfied: pyparsing!=2.0.4,!=2.1.2,!=2.1.6,>=2.0.1 in /usr/local/lib/python3.8/dist-packages (from matplotlib->catboost) (3.0.9)\n",
            "Requirement already satisfied: cycler>=0.10 in /usr/local/lib/python3.8/dist-packages (from matplotlib->catboost) (0.11.0)\n",
            "Requirement already satisfied: tenacity>=6.2.0 in /usr/local/lib/python3.8/dist-packages (from plotly->catboost) (8.1.0)\n",
            "Installing collected packages: catboost\n",
            "Successfully installed catboost-1.1.1\n"
          ]
        }
      ]
    },
    {
      "cell_type": "code",
      "source": [
        "from catboost import CatBoostClassifier\n",
        "cat_boost = CatBoostClassifier()\n",
        "cat_boost.fit(X_train, y_train)"
      ],
      "metadata": {
        "colab": {
          "base_uri": "https://localhost:8080/"
        },
        "id": "-etB_AEgG0BJ",
        "outputId": "996d1be4-203a-4874-b816-59a262cb4bbe"
      },
      "execution_count": 25,
      "outputs": [
        {
          "output_type": "stream",
          "name": "stdout",
          "text": [
            "Learning rate set to 0.007741\n",
            "0:\tlearn: 0.6767644\ttotal: 49.4ms\tremaining: 49.3s\n",
            "1:\tlearn: 0.6628456\ttotal: 50.2ms\tremaining: 25s\n",
            "2:\tlearn: 0.6473687\ttotal: 51.8ms\tremaining: 17.2s\n",
            "3:\tlearn: 0.6308320\ttotal: 53.6ms\tremaining: 13.3s\n",
            "4:\tlearn: 0.6181673\ttotal: 55.2ms\tremaining: 11s\n",
            "5:\tlearn: 0.6023751\ttotal: 56.6ms\tremaining: 9.38s\n",
            "6:\tlearn: 0.5898699\ttotal: 58.2ms\tremaining: 8.26s\n",
            "7:\tlearn: 0.5754043\ttotal: 59.4ms\tremaining: 7.36s\n",
            "8:\tlearn: 0.5623533\ttotal: 60.7ms\tremaining: 6.68s\n",
            "9:\tlearn: 0.5490909\ttotal: 62.6ms\tremaining: 6.2s\n",
            "10:\tlearn: 0.5371637\ttotal: 66.2ms\tremaining: 5.95s\n",
            "11:\tlearn: 0.5274926\ttotal: 68.2ms\tremaining: 5.61s\n",
            "12:\tlearn: 0.5141159\ttotal: 70ms\tremaining: 5.32s\n",
            "13:\tlearn: 0.5029282\ttotal: 72.5ms\tremaining: 5.1s\n",
            "14:\tlearn: 0.4936569\ttotal: 73.8ms\tremaining: 4.85s\n",
            "15:\tlearn: 0.4833632\ttotal: 75.4ms\tremaining: 4.64s\n",
            "16:\tlearn: 0.4731238\ttotal: 76.2ms\tremaining: 4.4s\n",
            "17:\tlearn: 0.4638231\ttotal: 79.6ms\tremaining: 4.34s\n",
            "18:\tlearn: 0.4534757\ttotal: 81.4ms\tremaining: 4.2s\n",
            "19:\tlearn: 0.4434205\ttotal: 86.7ms\tremaining: 4.25s\n",
            "20:\tlearn: 0.4341805\ttotal: 88.6ms\tremaining: 4.13s\n",
            "21:\tlearn: 0.4243668\ttotal: 93.8ms\tremaining: 4.17s\n",
            "22:\tlearn: 0.4146810\ttotal: 94.6ms\tremaining: 4.02s\n",
            "23:\tlearn: 0.4060342\ttotal: 97.6ms\tremaining: 3.97s\n",
            "24:\tlearn: 0.3974119\ttotal: 98.4ms\tremaining: 3.84s\n",
            "25:\tlearn: 0.3884016\ttotal: 103ms\tremaining: 3.86s\n",
            "26:\tlearn: 0.3801493\ttotal: 107ms\tremaining: 3.86s\n",
            "27:\tlearn: 0.3728048\ttotal: 110ms\tremaining: 3.81s\n",
            "28:\tlearn: 0.3652352\ttotal: 118ms\tremaining: 3.96s\n",
            "29:\tlearn: 0.3574700\ttotal: 119ms\tremaining: 3.86s\n",
            "30:\tlearn: 0.3504118\ttotal: 121ms\tremaining: 3.79s\n",
            "31:\tlearn: 0.3441227\ttotal: 122ms\tremaining: 3.7s\n",
            "32:\tlearn: 0.3379747\ttotal: 123ms\tremaining: 3.61s\n",
            "33:\tlearn: 0.3322889\ttotal: 124ms\tremaining: 3.53s\n",
            "34:\tlearn: 0.3254510\ttotal: 128ms\tremaining: 3.53s\n",
            "35:\tlearn: 0.3204042\ttotal: 130ms\tremaining: 3.47s\n",
            "36:\tlearn: 0.3140067\ttotal: 130ms\tremaining: 3.4s\n",
            "37:\tlearn: 0.3074565\ttotal: 136ms\tremaining: 3.44s\n",
            "38:\tlearn: 0.3006772\ttotal: 137ms\tremaining: 3.38s\n",
            "39:\tlearn: 0.2941381\ttotal: 138ms\tremaining: 3.31s\n",
            "40:\tlearn: 0.2889675\ttotal: 139ms\tremaining: 3.25s\n",
            "41:\tlearn: 0.2838421\ttotal: 142ms\tremaining: 3.23s\n",
            "42:\tlearn: 0.2783195\ttotal: 143ms\tremaining: 3.19s\n",
            "43:\tlearn: 0.2733160\ttotal: 146ms\tremaining: 3.17s\n",
            "44:\tlearn: 0.2689546\ttotal: 148ms\tremaining: 3.15s\n",
            "45:\tlearn: 0.2636999\ttotal: 151ms\tremaining: 3.14s\n",
            "46:\tlearn: 0.2586647\ttotal: 161ms\tremaining: 3.26s\n",
            "47:\tlearn: 0.2545478\ttotal: 162ms\tremaining: 3.21s\n",
            "48:\tlearn: 0.2502947\ttotal: 163ms\tremaining: 3.16s\n",
            "49:\tlearn: 0.2457086\ttotal: 170ms\tremaining: 3.22s\n",
            "50:\tlearn: 0.2418469\ttotal: 172ms\tremaining: 3.2s\n",
            "51:\tlearn: 0.2386115\ttotal: 173ms\tremaining: 3.15s\n",
            "52:\tlearn: 0.2350613\ttotal: 176ms\tremaining: 3.15s\n",
            "53:\tlearn: 0.2320042\ttotal: 177ms\tremaining: 3.1s\n",
            "54:\tlearn: 0.2294797\ttotal: 182ms\tremaining: 3.13s\n",
            "55:\tlearn: 0.2273646\ttotal: 185ms\tremaining: 3.11s\n",
            "56:\tlearn: 0.2240257\ttotal: 186ms\tremaining: 3.08s\n",
            "57:\tlearn: 0.2200135\ttotal: 188ms\tremaining: 3.06s\n",
            "58:\tlearn: 0.2173997\ttotal: 190ms\tremaining: 3.03s\n",
            "59:\tlearn: 0.2159210\ttotal: 192ms\tremaining: 3s\n",
            "60:\tlearn: 0.2125491\ttotal: 193ms\tremaining: 2.97s\n",
            "61:\tlearn: 0.2090794\ttotal: 195ms\tremaining: 2.96s\n",
            "62:\tlearn: 0.2062712\ttotal: 197ms\tremaining: 2.92s\n",
            "63:\tlearn: 0.2029013\ttotal: 198ms\tremaining: 2.89s\n",
            "64:\tlearn: 0.1992421\ttotal: 198ms\tremaining: 2.85s\n",
            "65:\tlearn: 0.1963501\ttotal: 199ms\tremaining: 2.82s\n",
            "66:\tlearn: 0.1933875\ttotal: 200ms\tremaining: 2.78s\n",
            "67:\tlearn: 0.1907502\ttotal: 202ms\tremaining: 2.77s\n",
            "68:\tlearn: 0.1878183\ttotal: 203ms\tremaining: 2.73s\n",
            "69:\tlearn: 0.1853376\ttotal: 203ms\tremaining: 2.7s\n",
            "70:\tlearn: 0.1829901\ttotal: 204ms\tremaining: 2.67s\n",
            "71:\tlearn: 0.1804054\ttotal: 205ms\tremaining: 2.64s\n",
            "72:\tlearn: 0.1785455\ttotal: 206ms\tremaining: 2.61s\n",
            "73:\tlearn: 0.1761665\ttotal: 206ms\tremaining: 2.58s\n",
            "74:\tlearn: 0.1738378\ttotal: 207ms\tremaining: 2.55s\n",
            "75:\tlearn: 0.1711454\ttotal: 208ms\tremaining: 2.53s\n",
            "76:\tlearn: 0.1690789\ttotal: 209ms\tremaining: 2.5s\n",
            "77:\tlearn: 0.1667959\ttotal: 209ms\tremaining: 2.48s\n",
            "78:\tlearn: 0.1650584\ttotal: 210ms\tremaining: 2.45s\n",
            "79:\tlearn: 0.1626421\ttotal: 211ms\tremaining: 2.43s\n",
            "80:\tlearn: 0.1606576\ttotal: 212ms\tremaining: 2.4s\n",
            "81:\tlearn: 0.1590976\ttotal: 213ms\tremaining: 2.38s\n",
            "82:\tlearn: 0.1572786\ttotal: 213ms\tremaining: 2.36s\n",
            "83:\tlearn: 0.1553910\ttotal: 214ms\tremaining: 2.33s\n",
            "84:\tlearn: 0.1538056\ttotal: 215ms\tremaining: 2.31s\n",
            "85:\tlearn: 0.1520994\ttotal: 216ms\tremaining: 2.29s\n",
            "86:\tlearn: 0.1501593\ttotal: 216ms\tremaining: 2.27s\n",
            "87:\tlearn: 0.1485311\ttotal: 217ms\tremaining: 2.25s\n",
            "88:\tlearn: 0.1469677\ttotal: 218ms\tremaining: 2.23s\n",
            "89:\tlearn: 0.1453265\ttotal: 219ms\tremaining: 2.21s\n",
            "90:\tlearn: 0.1438851\ttotal: 220ms\tremaining: 2.19s\n",
            "91:\tlearn: 0.1422534\ttotal: 220ms\tremaining: 2.17s\n",
            "92:\tlearn: 0.1405578\ttotal: 223ms\tremaining: 2.18s\n",
            "93:\tlearn: 0.1390435\ttotal: 226ms\tremaining: 2.17s\n",
            "94:\tlearn: 0.1373128\ttotal: 226ms\tremaining: 2.16s\n",
            "95:\tlearn: 0.1357745\ttotal: 227ms\tremaining: 2.14s\n",
            "96:\tlearn: 0.1341475\ttotal: 228ms\tremaining: 2.12s\n",
            "97:\tlearn: 0.1323960\ttotal: 229ms\tremaining: 2.11s\n",
            "98:\tlearn: 0.1308949\ttotal: 230ms\tremaining: 2.09s\n",
            "99:\tlearn: 0.1292992\ttotal: 231ms\tremaining: 2.08s\n",
            "100:\tlearn: 0.1280328\ttotal: 231ms\tremaining: 2.06s\n",
            "101:\tlearn: 0.1268548\ttotal: 232ms\tremaining: 2.04s\n",
            "102:\tlearn: 0.1256687\ttotal: 234ms\tremaining: 2.03s\n",
            "103:\tlearn: 0.1243927\ttotal: 234ms\tremaining: 2.02s\n",
            "104:\tlearn: 0.1232661\ttotal: 235ms\tremaining: 2s\n",
            "105:\tlearn: 0.1221525\ttotal: 236ms\tremaining: 1.99s\n",
            "106:\tlearn: 0.1205342\ttotal: 237ms\tremaining: 1.97s\n",
            "107:\tlearn: 0.1194678\ttotal: 237ms\tremaining: 1.96s\n",
            "108:\tlearn: 0.1180325\ttotal: 238ms\tremaining: 1.95s\n",
            "109:\tlearn: 0.1167696\ttotal: 239ms\tremaining: 1.94s\n",
            "110:\tlearn: 0.1158622\ttotal: 241ms\tremaining: 1.93s\n",
            "111:\tlearn: 0.1148998\ttotal: 241ms\tremaining: 1.91s\n",
            "112:\tlearn: 0.1135962\ttotal: 249ms\tremaining: 1.95s\n",
            "113:\tlearn: 0.1126444\ttotal: 250ms\tremaining: 1.94s\n",
            "114:\tlearn: 0.1114267\ttotal: 251ms\tremaining: 1.93s\n",
            "115:\tlearn: 0.1103805\ttotal: 251ms\tremaining: 1.91s\n",
            "116:\tlearn: 0.1093128\ttotal: 252ms\tremaining: 1.9s\n",
            "117:\tlearn: 0.1083963\ttotal: 254ms\tremaining: 1.9s\n",
            "118:\tlearn: 0.1071643\ttotal: 254ms\tremaining: 1.88s\n",
            "119:\tlearn: 0.1062587\ttotal: 255ms\tremaining: 1.87s\n",
            "120:\tlearn: 0.1053301\ttotal: 256ms\tremaining: 1.86s\n",
            "121:\tlearn: 0.1044747\ttotal: 257ms\tremaining: 1.85s\n",
            "122:\tlearn: 0.1034416\ttotal: 257ms\tremaining: 1.83s\n",
            "123:\tlearn: 0.1025499\ttotal: 258ms\tremaining: 1.82s\n",
            "124:\tlearn: 0.1018467\ttotal: 259ms\tremaining: 1.81s\n",
            "125:\tlearn: 0.1009650\ttotal: 262ms\tremaining: 1.82s\n",
            "126:\tlearn: 0.1001382\ttotal: 263ms\tremaining: 1.81s\n",
            "127:\tlearn: 0.0992820\ttotal: 264ms\tremaining: 1.8s\n",
            "128:\tlearn: 0.0983928\ttotal: 265ms\tremaining: 1.79s\n",
            "129:\tlearn: 0.0975516\ttotal: 266ms\tremaining: 1.78s\n",
            "130:\tlearn: 0.0968998\ttotal: 267ms\tremaining: 1.77s\n",
            "131:\tlearn: 0.0959897\ttotal: 267ms\tremaining: 1.76s\n",
            "132:\tlearn: 0.0949509\ttotal: 268ms\tremaining: 1.75s\n",
            "133:\tlearn: 0.0941424\ttotal: 269ms\tremaining: 1.74s\n",
            "134:\tlearn: 0.0933041\ttotal: 270ms\tremaining: 1.73s\n",
            "135:\tlearn: 0.0928361\ttotal: 270ms\tremaining: 1.72s\n",
            "136:\tlearn: 0.0922199\ttotal: 271ms\tremaining: 1.71s\n",
            "137:\tlearn: 0.0916510\ttotal: 272ms\tremaining: 1.7s\n",
            "138:\tlearn: 0.0908491\ttotal: 273ms\tremaining: 1.69s\n",
            "139:\tlearn: 0.0901929\ttotal: 273ms\tremaining: 1.68s\n",
            "140:\tlearn: 0.0894284\ttotal: 274ms\tremaining: 1.67s\n",
            "141:\tlearn: 0.0887325\ttotal: 275ms\tremaining: 1.66s\n",
            "142:\tlearn: 0.0881113\ttotal: 276ms\tremaining: 1.65s\n",
            "143:\tlearn: 0.0873042\ttotal: 277ms\tremaining: 1.64s\n",
            "144:\tlearn: 0.0868590\ttotal: 277ms\tremaining: 1.64s\n",
            "145:\tlearn: 0.0862348\ttotal: 278ms\tremaining: 1.63s\n",
            "146:\tlearn: 0.0856026\ttotal: 279ms\tremaining: 1.62s\n",
            "147:\tlearn: 0.0850937\ttotal: 279ms\tremaining: 1.61s\n",
            "148:\tlearn: 0.0846084\ttotal: 285ms\tremaining: 1.63s\n",
            "149:\tlearn: 0.0840837\ttotal: 286ms\tremaining: 1.62s\n",
            "150:\tlearn: 0.0835064\ttotal: 286ms\tremaining: 1.61s\n",
            "151:\tlearn: 0.0830510\ttotal: 287ms\tremaining: 1.6s\n",
            "152:\tlearn: 0.0826294\ttotal: 288ms\tremaining: 1.59s\n",
            "153:\tlearn: 0.0819861\ttotal: 289ms\tremaining: 1.59s\n",
            "154:\tlearn: 0.0813996\ttotal: 290ms\tremaining: 1.58s\n",
            "155:\tlearn: 0.0809451\ttotal: 290ms\tremaining: 1.57s\n",
            "156:\tlearn: 0.0804069\ttotal: 291ms\tremaining: 1.56s\n",
            "157:\tlearn: 0.0797380\ttotal: 292ms\tremaining: 1.55s\n",
            "158:\tlearn: 0.0792031\ttotal: 293ms\tremaining: 1.55s\n",
            "159:\tlearn: 0.0787439\ttotal: 293ms\tremaining: 1.54s\n",
            "160:\tlearn: 0.0783123\ttotal: 294ms\tremaining: 1.53s\n",
            "161:\tlearn: 0.0779309\ttotal: 295ms\tremaining: 1.52s\n",
            "162:\tlearn: 0.0773608\ttotal: 295ms\tremaining: 1.52s\n",
            "163:\tlearn: 0.0769629\ttotal: 296ms\tremaining: 1.51s\n",
            "164:\tlearn: 0.0766317\ttotal: 297ms\tremaining: 1.5s\n",
            "165:\tlearn: 0.0761620\ttotal: 298ms\tremaining: 1.5s\n",
            "166:\tlearn: 0.0757430\ttotal: 298ms\tremaining: 1.49s\n",
            "167:\tlearn: 0.0754119\ttotal: 299ms\tremaining: 1.48s\n",
            "168:\tlearn: 0.0749546\ttotal: 300ms\tremaining: 1.48s\n",
            "169:\tlearn: 0.0744855\ttotal: 301ms\tremaining: 1.47s\n",
            "170:\tlearn: 0.0740844\ttotal: 302ms\tremaining: 1.46s\n",
            "171:\tlearn: 0.0735609\ttotal: 303ms\tremaining: 1.46s\n",
            "172:\tlearn: 0.0731081\ttotal: 303ms\tremaining: 1.45s\n",
            "173:\tlearn: 0.0728101\ttotal: 304ms\tremaining: 1.44s\n",
            "174:\tlearn: 0.0724446\ttotal: 305ms\tremaining: 1.44s\n",
            "175:\tlearn: 0.0721195\ttotal: 306ms\tremaining: 1.43s\n",
            "176:\tlearn: 0.0716426\ttotal: 306ms\tremaining: 1.42s\n",
            "177:\tlearn: 0.0713749\ttotal: 307ms\tremaining: 1.42s\n",
            "178:\tlearn: 0.0710304\ttotal: 308ms\tremaining: 1.41s\n",
            "179:\tlearn: 0.0707399\ttotal: 309ms\tremaining: 1.41s\n",
            "180:\tlearn: 0.0703430\ttotal: 310ms\tremaining: 1.4s\n",
            "181:\tlearn: 0.0698722\ttotal: 312ms\tremaining: 1.4s\n",
            "182:\tlearn: 0.0695735\ttotal: 313ms\tremaining: 1.4s\n",
            "183:\tlearn: 0.0690841\ttotal: 314ms\tremaining: 1.39s\n",
            "184:\tlearn: 0.0686045\ttotal: 315ms\tremaining: 1.39s\n",
            "185:\tlearn: 0.0683295\ttotal: 316ms\tremaining: 1.38s\n",
            "186:\tlearn: 0.0678782\ttotal: 317ms\tremaining: 1.38s\n",
            "187:\tlearn: 0.0675317\ttotal: 317ms\tremaining: 1.37s\n",
            "188:\tlearn: 0.0671557\ttotal: 318ms\tremaining: 1.36s\n",
            "189:\tlearn: 0.0667521\ttotal: 319ms\tremaining: 1.36s\n",
            "190:\tlearn: 0.0663697\ttotal: 320ms\tremaining: 1.35s\n",
            "191:\tlearn: 0.0660927\ttotal: 321ms\tremaining: 1.35s\n",
            "192:\tlearn: 0.0658775\ttotal: 321ms\tremaining: 1.34s\n",
            "193:\tlearn: 0.0655387\ttotal: 322ms\tremaining: 1.34s\n",
            "194:\tlearn: 0.0651141\ttotal: 323ms\tremaining: 1.33s\n",
            "195:\tlearn: 0.0647643\ttotal: 324ms\tremaining: 1.33s\n",
            "196:\tlearn: 0.0643610\ttotal: 325ms\tremaining: 1.32s\n",
            "197:\tlearn: 0.0639192\ttotal: 325ms\tremaining: 1.32s\n",
            "198:\tlearn: 0.0634972\ttotal: 326ms\tremaining: 1.31s\n",
            "199:\tlearn: 0.0632012\ttotal: 327ms\tremaining: 1.31s\n",
            "200:\tlearn: 0.0628707\ttotal: 328ms\tremaining: 1.3s\n",
            "201:\tlearn: 0.0625677\ttotal: 329ms\tremaining: 1.3s\n",
            "202:\tlearn: 0.0622744\ttotal: 329ms\tremaining: 1.29s\n",
            "203:\tlearn: 0.0621065\ttotal: 330ms\tremaining: 1.29s\n",
            "204:\tlearn: 0.0617670\ttotal: 331ms\tremaining: 1.28s\n",
            "205:\tlearn: 0.0615415\ttotal: 332ms\tremaining: 1.28s\n",
            "206:\tlearn: 0.0611810\ttotal: 333ms\tremaining: 1.27s\n",
            "207:\tlearn: 0.0609790\ttotal: 333ms\tremaining: 1.27s\n",
            "208:\tlearn: 0.0606706\ttotal: 334ms\tremaining: 1.26s\n",
            "209:\tlearn: 0.0602946\ttotal: 335ms\tremaining: 1.26s\n",
            "210:\tlearn: 0.0599610\ttotal: 336ms\tremaining: 1.25s\n",
            "211:\tlearn: 0.0597273\ttotal: 336ms\tremaining: 1.25s\n",
            "212:\tlearn: 0.0594661\ttotal: 337ms\tremaining: 1.25s\n",
            "213:\tlearn: 0.0592112\ttotal: 338ms\tremaining: 1.24s\n",
            "214:\tlearn: 0.0589743\ttotal: 339ms\tremaining: 1.24s\n",
            "215:\tlearn: 0.0587842\ttotal: 340ms\tremaining: 1.23s\n",
            "216:\tlearn: 0.0584260\ttotal: 340ms\tremaining: 1.23s\n",
            "217:\tlearn: 0.0581516\ttotal: 341ms\tremaining: 1.22s\n",
            "218:\tlearn: 0.0578825\ttotal: 342ms\tremaining: 1.22s\n",
            "219:\tlearn: 0.0575017\ttotal: 343ms\tremaining: 1.22s\n",
            "220:\tlearn: 0.0573118\ttotal: 344ms\tremaining: 1.21s\n",
            "221:\tlearn: 0.0571687\ttotal: 345ms\tremaining: 1.21s\n",
            "222:\tlearn: 0.0570106\ttotal: 346ms\tremaining: 1.2s\n",
            "223:\tlearn: 0.0568253\ttotal: 346ms\tremaining: 1.2s\n",
            "224:\tlearn: 0.0565226\ttotal: 347ms\tremaining: 1.2s\n",
            "225:\tlearn: 0.0562967\ttotal: 348ms\tremaining: 1.19s\n",
            "226:\tlearn: 0.0560722\ttotal: 349ms\tremaining: 1.19s\n",
            "227:\tlearn: 0.0557678\ttotal: 350ms\tremaining: 1.18s\n",
            "228:\tlearn: 0.0554948\ttotal: 350ms\tremaining: 1.18s\n",
            "229:\tlearn: 0.0551370\ttotal: 352ms\tremaining: 1.18s\n",
            "230:\tlearn: 0.0549557\ttotal: 353ms\tremaining: 1.17s\n",
            "231:\tlearn: 0.0546565\ttotal: 353ms\tremaining: 1.17s\n",
            "232:\tlearn: 0.0544110\ttotal: 354ms\tremaining: 1.17s\n",
            "233:\tlearn: 0.0541928\ttotal: 355ms\tremaining: 1.16s\n",
            "234:\tlearn: 0.0540241\ttotal: 356ms\tremaining: 1.16s\n",
            "235:\tlearn: 0.0538266\ttotal: 356ms\tremaining: 1.15s\n",
            "236:\tlearn: 0.0535856\ttotal: 357ms\tremaining: 1.15s\n",
            "237:\tlearn: 0.0533868\ttotal: 358ms\tremaining: 1.15s\n",
            "238:\tlearn: 0.0531604\ttotal: 359ms\tremaining: 1.14s\n",
            "239:\tlearn: 0.0529413\ttotal: 360ms\tremaining: 1.14s\n",
            "240:\tlearn: 0.0527492\ttotal: 360ms\tremaining: 1.13s\n",
            "241:\tlearn: 0.0525564\ttotal: 361ms\tremaining: 1.13s\n",
            "242:\tlearn: 0.0523553\ttotal: 362ms\tremaining: 1.13s\n",
            "243:\tlearn: 0.0521084\ttotal: 363ms\tremaining: 1.12s\n",
            "244:\tlearn: 0.0518456\ttotal: 363ms\tremaining: 1.12s\n",
            "245:\tlearn: 0.0516912\ttotal: 364ms\tremaining: 1.12s\n",
            "246:\tlearn: 0.0515180\ttotal: 365ms\tremaining: 1.11s\n",
            "247:\tlearn: 0.0513444\ttotal: 366ms\tremaining: 1.11s\n",
            "248:\tlearn: 0.0511311\ttotal: 366ms\tremaining: 1.1s\n",
            "249:\tlearn: 0.0509949\ttotal: 367ms\tremaining: 1.1s\n",
            "250:\tlearn: 0.0507756\ttotal: 368ms\tremaining: 1.1s\n",
            "251:\tlearn: 0.0505836\ttotal: 369ms\tremaining: 1.09s\n",
            "252:\tlearn: 0.0503085\ttotal: 369ms\tremaining: 1.09s\n",
            "253:\tlearn: 0.0500337\ttotal: 370ms\tremaining: 1.09s\n",
            "254:\tlearn: 0.0498618\ttotal: 371ms\tremaining: 1.08s\n",
            "255:\tlearn: 0.0496727\ttotal: 372ms\tremaining: 1.08s\n",
            "256:\tlearn: 0.0494706\ttotal: 373ms\tremaining: 1.08s\n",
            "257:\tlearn: 0.0492853\ttotal: 373ms\tremaining: 1.07s\n",
            "258:\tlearn: 0.0491443\ttotal: 374ms\tremaining: 1.07s\n",
            "259:\tlearn: 0.0489772\ttotal: 375ms\tremaining: 1.07s\n",
            "260:\tlearn: 0.0487958\ttotal: 376ms\tremaining: 1.06s\n",
            "261:\tlearn: 0.0486636\ttotal: 376ms\tremaining: 1.06s\n",
            "262:\tlearn: 0.0485106\ttotal: 377ms\tremaining: 1.06s\n",
            "263:\tlearn: 0.0482998\ttotal: 378ms\tremaining: 1.05s\n",
            "264:\tlearn: 0.0481675\ttotal: 379ms\tremaining: 1.05s\n",
            "265:\tlearn: 0.0480266\ttotal: 379ms\tremaining: 1.05s\n",
            "266:\tlearn: 0.0479320\ttotal: 380ms\tremaining: 1.04s\n",
            "267:\tlearn: 0.0477041\ttotal: 381ms\tremaining: 1.04s\n",
            "268:\tlearn: 0.0475672\ttotal: 382ms\tremaining: 1.04s\n",
            "269:\tlearn: 0.0474167\ttotal: 383ms\tremaining: 1.03s\n",
            "270:\tlearn: 0.0472696\ttotal: 383ms\tremaining: 1.03s\n",
            "271:\tlearn: 0.0471162\ttotal: 384ms\tremaining: 1.03s\n",
            "272:\tlearn: 0.0469520\ttotal: 385ms\tremaining: 1.02s\n",
            "273:\tlearn: 0.0468010\ttotal: 386ms\tremaining: 1.02s\n",
            "274:\tlearn: 0.0466530\ttotal: 387ms\tremaining: 1.02s\n",
            "275:\tlearn: 0.0464511\ttotal: 387ms\tremaining: 1.02s\n",
            "276:\tlearn: 0.0461896\ttotal: 388ms\tremaining: 1.01s\n",
            "277:\tlearn: 0.0459902\ttotal: 389ms\tremaining: 1.01s\n",
            "278:\tlearn: 0.0458310\ttotal: 391ms\tremaining: 1.01s\n",
            "279:\tlearn: 0.0456946\ttotal: 392ms\tremaining: 1.01s\n",
            "280:\tlearn: 0.0456377\ttotal: 392ms\tremaining: 1s\n",
            "281:\tlearn: 0.0453834\ttotal: 393ms\tremaining: 1s\n",
            "282:\tlearn: 0.0451869\ttotal: 396ms\tremaining: 1s\n",
            "283:\tlearn: 0.0450362\ttotal: 396ms\tremaining: 999ms\n",
            "284:\tlearn: 0.0449153\ttotal: 397ms\tremaining: 997ms\n",
            "285:\tlearn: 0.0448117\ttotal: 398ms\tremaining: 994ms\n",
            "286:\tlearn: 0.0446439\ttotal: 399ms\tremaining: 991ms\n",
            "287:\tlearn: 0.0444533\ttotal: 400ms\tremaining: 989ms\n",
            "288:\tlearn: 0.0442740\ttotal: 401ms\tremaining: 987ms\n",
            "289:\tlearn: 0.0441180\ttotal: 402ms\tremaining: 984ms\n",
            "290:\tlearn: 0.0439830\ttotal: 403ms\tremaining: 981ms\n",
            "291:\tlearn: 0.0438705\ttotal: 404ms\tremaining: 978ms\n",
            "292:\tlearn: 0.0437644\ttotal: 404ms\tremaining: 975ms\n",
            "293:\tlearn: 0.0436066\ttotal: 406ms\tremaining: 975ms\n",
            "294:\tlearn: 0.0434274\ttotal: 407ms\tremaining: 972ms\n",
            "295:\tlearn: 0.0432575\ttotal: 407ms\tremaining: 969ms\n",
            "296:\tlearn: 0.0430759\ttotal: 408ms\tremaining: 966ms\n",
            "297:\tlearn: 0.0428960\ttotal: 409ms\tremaining: 963ms\n",
            "298:\tlearn: 0.0427540\ttotal: 410ms\tremaining: 960ms\n",
            "299:\tlearn: 0.0426077\ttotal: 410ms\tremaining: 957ms\n",
            "300:\tlearn: 0.0425047\ttotal: 412ms\tremaining: 956ms\n",
            "301:\tlearn: 0.0423922\ttotal: 413ms\tremaining: 954ms\n",
            "302:\tlearn: 0.0422583\ttotal: 414ms\tremaining: 952ms\n",
            "303:\tlearn: 0.0420684\ttotal: 415ms\tremaining: 950ms\n",
            "304:\tlearn: 0.0418932\ttotal: 416ms\tremaining: 949ms\n",
            "305:\tlearn: 0.0417003\ttotal: 417ms\tremaining: 946ms\n",
            "306:\tlearn: 0.0415432\ttotal: 418ms\tremaining: 944ms\n",
            "307:\tlearn: 0.0414277\ttotal: 419ms\tremaining: 942ms\n",
            "308:\tlearn: 0.0413473\ttotal: 420ms\tremaining: 940ms\n",
            "309:\tlearn: 0.0412209\ttotal: 421ms\tremaining: 938ms\n",
            "310:\tlearn: 0.0410604\ttotal: 422ms\tremaining: 936ms\n",
            "311:\tlearn: 0.0409964\ttotal: 423ms\tremaining: 933ms\n",
            "312:\tlearn: 0.0409192\ttotal: 424ms\tremaining: 931ms\n",
            "313:\tlearn: 0.0407691\ttotal: 425ms\tremaining: 928ms\n",
            "314:\tlearn: 0.0406697\ttotal: 426ms\tremaining: 926ms\n",
            "315:\tlearn: 0.0405676\ttotal: 427ms\tremaining: 924ms\n",
            "316:\tlearn: 0.0403598\ttotal: 428ms\tremaining: 922ms\n",
            "317:\tlearn: 0.0402716\ttotal: 429ms\tremaining: 920ms\n",
            "318:\tlearn: 0.0401616\ttotal: 430ms\tremaining: 917ms\n",
            "319:\tlearn: 0.0400389\ttotal: 431ms\tremaining: 915ms\n",
            "320:\tlearn: 0.0399489\ttotal: 432ms\tremaining: 913ms\n",
            "321:\tlearn: 0.0397981\ttotal: 433ms\tremaining: 911ms\n",
            "322:\tlearn: 0.0396875\ttotal: 435ms\tremaining: 912ms\n",
            "323:\tlearn: 0.0395289\ttotal: 436ms\tremaining: 910ms\n",
            "324:\tlearn: 0.0394163\ttotal: 438ms\tremaining: 909ms\n",
            "325:\tlearn: 0.0393297\ttotal: 439ms\tremaining: 907ms\n",
            "326:\tlearn: 0.0392512\ttotal: 440ms\tremaining: 906ms\n",
            "327:\tlearn: 0.0391388\ttotal: 441ms\tremaining: 904ms\n",
            "328:\tlearn: 0.0390157\ttotal: 442ms\tremaining: 902ms\n",
            "329:\tlearn: 0.0388535\ttotal: 443ms\tremaining: 900ms\n",
            "330:\tlearn: 0.0386871\ttotal: 444ms\tremaining: 898ms\n",
            "331:\tlearn: 0.0385796\ttotal: 445ms\tremaining: 896ms\n",
            "332:\tlearn: 0.0384756\ttotal: 446ms\tremaining: 894ms\n",
            "333:\tlearn: 0.0383582\ttotal: 447ms\tremaining: 891ms\n",
            "334:\tlearn: 0.0382781\ttotal: 448ms\tremaining: 889ms\n",
            "335:\tlearn: 0.0381236\ttotal: 450ms\tremaining: 889ms\n",
            "336:\tlearn: 0.0380078\ttotal: 451ms\tremaining: 887ms\n",
            "337:\tlearn: 0.0379042\ttotal: 452ms\tremaining: 885ms\n",
            "338:\tlearn: 0.0377368\ttotal: 452ms\tremaining: 882ms\n",
            "339:\tlearn: 0.0375891\ttotal: 453ms\tremaining: 880ms\n",
            "340:\tlearn: 0.0374782\ttotal: 454ms\tremaining: 877ms\n",
            "341:\tlearn: 0.0374025\ttotal: 455ms\tremaining: 875ms\n",
            "342:\tlearn: 0.0372854\ttotal: 456ms\tremaining: 873ms\n",
            "343:\tlearn: 0.0371212\ttotal: 456ms\tremaining: 870ms\n",
            "344:\tlearn: 0.0369835\ttotal: 457ms\tremaining: 868ms\n",
            "345:\tlearn: 0.0368986\ttotal: 458ms\tremaining: 865ms\n",
            "346:\tlearn: 0.0367020\ttotal: 459ms\tremaining: 863ms\n",
            "347:\tlearn: 0.0365659\ttotal: 459ms\tremaining: 860ms\n",
            "348:\tlearn: 0.0364608\ttotal: 460ms\tremaining: 858ms\n",
            "349:\tlearn: 0.0363518\ttotal: 461ms\tremaining: 856ms\n",
            "350:\tlearn: 0.0362251\ttotal: 462ms\tremaining: 855ms\n",
            "351:\tlearn: 0.0361572\ttotal: 463ms\tremaining: 853ms\n",
            "352:\tlearn: 0.0360078\ttotal: 464ms\tremaining: 851ms\n",
            "353:\tlearn: 0.0359507\ttotal: 465ms\tremaining: 849ms\n",
            "354:\tlearn: 0.0358208\ttotal: 466ms\tremaining: 847ms\n",
            "355:\tlearn: 0.0357086\ttotal: 467ms\tremaining: 845ms\n",
            "356:\tlearn: 0.0355811\ttotal: 468ms\tremaining: 843ms\n",
            "357:\tlearn: 0.0354395\ttotal: 469ms\tremaining: 841ms\n",
            "358:\tlearn: 0.0353443\ttotal: 470ms\tremaining: 839ms\n",
            "359:\tlearn: 0.0352521\ttotal: 471ms\tremaining: 837ms\n",
            "360:\tlearn: 0.0351563\ttotal: 472ms\tremaining: 835ms\n",
            "361:\tlearn: 0.0351100\ttotal: 473ms\tremaining: 833ms\n",
            "362:\tlearn: 0.0349911\ttotal: 474ms\tremaining: 832ms\n",
            "363:\tlearn: 0.0348531\ttotal: 475ms\tremaining: 830ms\n",
            "364:\tlearn: 0.0347668\ttotal: 476ms\tremaining: 828ms\n",
            "365:\tlearn: 0.0346346\ttotal: 477ms\tremaining: 826ms\n",
            "366:\tlearn: 0.0345564\ttotal: 478ms\tremaining: 824ms\n",
            "367:\tlearn: 0.0344804\ttotal: 479ms\tremaining: 822ms\n",
            "368:\tlearn: 0.0343959\ttotal: 480ms\tremaining: 820ms\n",
            "369:\tlearn: 0.0342696\ttotal: 481ms\tremaining: 818ms\n",
            "370:\tlearn: 0.0342304\ttotal: 482ms\tremaining: 816ms\n",
            "371:\tlearn: 0.0340799\ttotal: 482ms\tremaining: 814ms\n",
            "372:\tlearn: 0.0339778\ttotal: 483ms\tremaining: 813ms\n",
            "373:\tlearn: 0.0338701\ttotal: 484ms\tremaining: 811ms\n",
            "374:\tlearn: 0.0337630\ttotal: 485ms\tremaining: 809ms\n",
            "375:\tlearn: 0.0336614\ttotal: 486ms\tremaining: 807ms\n",
            "376:\tlearn: 0.0336133\ttotal: 487ms\tremaining: 805ms\n",
            "377:\tlearn: 0.0334856\ttotal: 490ms\tremaining: 806ms\n",
            "378:\tlearn: 0.0334179\ttotal: 491ms\tremaining: 804ms\n",
            "379:\tlearn: 0.0333169\ttotal: 492ms\tremaining: 802ms\n",
            "380:\tlearn: 0.0332608\ttotal: 493ms\tremaining: 800ms\n",
            "381:\tlearn: 0.0331174\ttotal: 494ms\tremaining: 799ms\n",
            "382:\tlearn: 0.0330145\ttotal: 495ms\tremaining: 797ms\n",
            "383:\tlearn: 0.0329297\ttotal: 496ms\tremaining: 795ms\n",
            "384:\tlearn: 0.0328779\ttotal: 496ms\tremaining: 793ms\n",
            "385:\tlearn: 0.0328048\ttotal: 498ms\tremaining: 792ms\n",
            "386:\tlearn: 0.0327163\ttotal: 499ms\tremaining: 790ms\n",
            "387:\tlearn: 0.0326334\ttotal: 500ms\tremaining: 788ms\n",
            "388:\tlearn: 0.0325450\ttotal: 501ms\tremaining: 786ms\n",
            "389:\tlearn: 0.0324429\ttotal: 502ms\tremaining: 785ms\n",
            "390:\tlearn: 0.0323385\ttotal: 503ms\tremaining: 783ms\n",
            "391:\tlearn: 0.0322576\ttotal: 504ms\tremaining: 781ms\n",
            "392:\tlearn: 0.0321668\ttotal: 505ms\tremaining: 779ms\n",
            "393:\tlearn: 0.0320681\ttotal: 506ms\tremaining: 778ms\n",
            "394:\tlearn: 0.0320018\ttotal: 507ms\tremaining: 776ms\n",
            "395:\tlearn: 0.0319414\ttotal: 507ms\tremaining: 774ms\n",
            "396:\tlearn: 0.0318736\ttotal: 508ms\tremaining: 772ms\n",
            "397:\tlearn: 0.0317729\ttotal: 510ms\tremaining: 772ms\n",
            "398:\tlearn: 0.0317261\ttotal: 511ms\tremaining: 770ms\n",
            "399:\tlearn: 0.0316894\ttotal: 512ms\tremaining: 768ms\n",
            "400:\tlearn: 0.0316091\ttotal: 513ms\tremaining: 767ms\n",
            "401:\tlearn: 0.0314567\ttotal: 514ms\tremaining: 765ms\n",
            "402:\tlearn: 0.0313974\ttotal: 515ms\tremaining: 763ms\n",
            "403:\tlearn: 0.0313219\ttotal: 516ms\tremaining: 761ms\n",
            "404:\tlearn: 0.0311916\ttotal: 517ms\tremaining: 760ms\n",
            "405:\tlearn: 0.0311260\ttotal: 518ms\tremaining: 758ms\n",
            "406:\tlearn: 0.0310500\ttotal: 519ms\tremaining: 756ms\n",
            "407:\tlearn: 0.0309817\ttotal: 520ms\tremaining: 754ms\n",
            "408:\tlearn: 0.0309098\ttotal: 521ms\tremaining: 753ms\n",
            "409:\tlearn: 0.0308640\ttotal: 522ms\tremaining: 751ms\n",
            "410:\tlearn: 0.0307549\ttotal: 523ms\tremaining: 749ms\n",
            "411:\tlearn: 0.0306757\ttotal: 524ms\tremaining: 748ms\n",
            "412:\tlearn: 0.0306134\ttotal: 525ms\tremaining: 746ms\n",
            "413:\tlearn: 0.0305228\ttotal: 526ms\tremaining: 744ms\n",
            "414:\tlearn: 0.0304388\ttotal: 527ms\tremaining: 743ms\n",
            "415:\tlearn: 0.0303634\ttotal: 528ms\tremaining: 741ms\n",
            "416:\tlearn: 0.0302661\ttotal: 529ms\tremaining: 739ms\n",
            "417:\tlearn: 0.0301978\ttotal: 530ms\tremaining: 738ms\n",
            "418:\tlearn: 0.0301563\ttotal: 531ms\tremaining: 736ms\n",
            "419:\tlearn: 0.0300751\ttotal: 532ms\tremaining: 734ms\n",
            "420:\tlearn: 0.0299800\ttotal: 533ms\tremaining: 733ms\n",
            "421:\tlearn: 0.0299149\ttotal: 534ms\tremaining: 731ms\n",
            "422:\tlearn: 0.0298644\ttotal: 535ms\tremaining: 729ms\n",
            "423:\tlearn: 0.0297682\ttotal: 536ms\tremaining: 728ms\n",
            "424:\tlearn: 0.0297015\ttotal: 537ms\tremaining: 726ms\n",
            "425:\tlearn: 0.0296322\ttotal: 538ms\tremaining: 725ms\n",
            "426:\tlearn: 0.0295897\ttotal: 539ms\tremaining: 723ms\n",
            "427:\tlearn: 0.0295082\ttotal: 540ms\tremaining: 721ms\n",
            "428:\tlearn: 0.0294534\ttotal: 541ms\tremaining: 720ms\n",
            "429:\tlearn: 0.0293292\ttotal: 542ms\tremaining: 718ms\n",
            "430:\tlearn: 0.0292401\ttotal: 543ms\tremaining: 716ms\n",
            "431:\tlearn: 0.0291395\ttotal: 544ms\tremaining: 715ms\n",
            "432:\tlearn: 0.0290626\ttotal: 545ms\tremaining: 713ms\n",
            "433:\tlearn: 0.0290173\ttotal: 546ms\tremaining: 712ms\n",
            "434:\tlearn: 0.0289688\ttotal: 547ms\tremaining: 710ms\n",
            "435:\tlearn: 0.0288905\ttotal: 547ms\tremaining: 708ms\n",
            "436:\tlearn: 0.0288079\ttotal: 549ms\tremaining: 707ms\n",
            "437:\tlearn: 0.0287044\ttotal: 550ms\tremaining: 705ms\n",
            "438:\tlearn: 0.0286277\ttotal: 551ms\tremaining: 704ms\n",
            "439:\tlearn: 0.0285888\ttotal: 552ms\tremaining: 702ms\n",
            "440:\tlearn: 0.0284728\ttotal: 553ms\tremaining: 701ms\n",
            "441:\tlearn: 0.0284153\ttotal: 554ms\tremaining: 699ms\n",
            "442:\tlearn: 0.0283474\ttotal: 554ms\tremaining: 697ms\n",
            "443:\tlearn: 0.0282984\ttotal: 555ms\tremaining: 695ms\n",
            "444:\tlearn: 0.0281979\ttotal: 556ms\tremaining: 694ms\n",
            "445:\tlearn: 0.0281623\ttotal: 558ms\tremaining: 693ms\n",
            "446:\tlearn: 0.0280783\ttotal: 559ms\tremaining: 692ms\n",
            "447:\tlearn: 0.0280111\ttotal: 560ms\tremaining: 691ms\n",
            "448:\tlearn: 0.0279530\ttotal: 562ms\tremaining: 689ms\n",
            "449:\tlearn: 0.0278846\ttotal: 563ms\tremaining: 688ms\n",
            "450:\tlearn: 0.0278442\ttotal: 564ms\tremaining: 686ms\n",
            "451:\tlearn: 0.0277600\ttotal: 565ms\tremaining: 684ms\n",
            "452:\tlearn: 0.0277129\ttotal: 566ms\tremaining: 683ms\n",
            "453:\tlearn: 0.0276348\ttotal: 567ms\tremaining: 682ms\n",
            "454:\tlearn: 0.0275535\ttotal: 568ms\tremaining: 680ms\n",
            "455:\tlearn: 0.0275033\ttotal: 569ms\tremaining: 679ms\n",
            "456:\tlearn: 0.0274257\ttotal: 570ms\tremaining: 677ms\n",
            "457:\tlearn: 0.0273234\ttotal: 571ms\tremaining: 676ms\n",
            "458:\tlearn: 0.0272684\ttotal: 572ms\tremaining: 674ms\n",
            "459:\tlearn: 0.0271527\ttotal: 573ms\tremaining: 672ms\n",
            "460:\tlearn: 0.0270849\ttotal: 574ms\tremaining: 671ms\n",
            "461:\tlearn: 0.0269929\ttotal: 575ms\tremaining: 670ms\n",
            "462:\tlearn: 0.0269405\ttotal: 576ms\tremaining: 668ms\n",
            "463:\tlearn: 0.0268356\ttotal: 577ms\tremaining: 667ms\n",
            "464:\tlearn: 0.0268076\ttotal: 578ms\tremaining: 665ms\n",
            "465:\tlearn: 0.0267386\ttotal: 579ms\tremaining: 664ms\n",
            "466:\tlearn: 0.0266613\ttotal: 580ms\tremaining: 662ms\n",
            "467:\tlearn: 0.0266033\ttotal: 581ms\tremaining: 661ms\n",
            "468:\tlearn: 0.0265038\ttotal: 582ms\tremaining: 659ms\n",
            "469:\tlearn: 0.0264487\ttotal: 583ms\tremaining: 658ms\n",
            "470:\tlearn: 0.0264071\ttotal: 584ms\tremaining: 656ms\n",
            "471:\tlearn: 0.0263426\ttotal: 585ms\tremaining: 655ms\n",
            "472:\tlearn: 0.0262831\ttotal: 586ms\tremaining: 653ms\n",
            "473:\tlearn: 0.0262344\ttotal: 588ms\tremaining: 653ms\n",
            "474:\tlearn: 0.0261780\ttotal: 589ms\tremaining: 651ms\n",
            "475:\tlearn: 0.0261207\ttotal: 590ms\tremaining: 650ms\n",
            "476:\tlearn: 0.0260862\ttotal: 591ms\tremaining: 648ms\n",
            "477:\tlearn: 0.0260108\ttotal: 592ms\tremaining: 647ms\n",
            "478:\tlearn: 0.0259316\ttotal: 593ms\tremaining: 645ms\n",
            "479:\tlearn: 0.0258787\ttotal: 594ms\tremaining: 644ms\n",
            "480:\tlearn: 0.0257958\ttotal: 595ms\tremaining: 642ms\n",
            "481:\tlearn: 0.0257280\ttotal: 596ms\tremaining: 641ms\n",
            "482:\tlearn: 0.0256602\ttotal: 597ms\tremaining: 639ms\n",
            "483:\tlearn: 0.0256077\ttotal: 598ms\tremaining: 638ms\n",
            "484:\tlearn: 0.0255562\ttotal: 599ms\tremaining: 636ms\n",
            "485:\tlearn: 0.0255224\ttotal: 600ms\tremaining: 635ms\n",
            "486:\tlearn: 0.0254551\ttotal: 601ms\tremaining: 633ms\n",
            "487:\tlearn: 0.0254040\ttotal: 602ms\tremaining: 632ms\n",
            "488:\tlearn: 0.0253162\ttotal: 603ms\tremaining: 630ms\n",
            "489:\tlearn: 0.0252738\ttotal: 604ms\tremaining: 629ms\n",
            "490:\tlearn: 0.0252381\ttotal: 605ms\tremaining: 628ms\n",
            "491:\tlearn: 0.0251736\ttotal: 606ms\tremaining: 626ms\n",
            "492:\tlearn: 0.0251502\ttotal: 607ms\tremaining: 625ms\n",
            "493:\tlearn: 0.0251010\ttotal: 609ms\tremaining: 624ms\n",
            "494:\tlearn: 0.0250203\ttotal: 610ms\tremaining: 622ms\n",
            "495:\tlearn: 0.0249809\ttotal: 613ms\tremaining: 623ms\n",
            "496:\tlearn: 0.0249286\ttotal: 614ms\tremaining: 621ms\n",
            "497:\tlearn: 0.0248720\ttotal: 616ms\tremaining: 621ms\n",
            "498:\tlearn: 0.0248237\ttotal: 617ms\tremaining: 620ms\n",
            "499:\tlearn: 0.0247839\ttotal: 618ms\tremaining: 618ms\n",
            "500:\tlearn: 0.0247205\ttotal: 619ms\tremaining: 617ms\n",
            "501:\tlearn: 0.0246806\ttotal: 622ms\tremaining: 617ms\n",
            "502:\tlearn: 0.0246181\ttotal: 624ms\tremaining: 616ms\n",
            "503:\tlearn: 0.0245863\ttotal: 625ms\tremaining: 616ms\n",
            "504:\tlearn: 0.0245514\ttotal: 628ms\tremaining: 615ms\n",
            "505:\tlearn: 0.0244890\ttotal: 629ms\tremaining: 614ms\n",
            "506:\tlearn: 0.0244570\ttotal: 630ms\tremaining: 612ms\n",
            "507:\tlearn: 0.0244031\ttotal: 630ms\tremaining: 611ms\n",
            "508:\tlearn: 0.0243606\ttotal: 632ms\tremaining: 610ms\n",
            "509:\tlearn: 0.0243221\ttotal: 633ms\tremaining: 608ms\n",
            "510:\tlearn: 0.0242758\ttotal: 634ms\tremaining: 607ms\n",
            "511:\tlearn: 0.0242183\ttotal: 635ms\tremaining: 605ms\n",
            "512:\tlearn: 0.0241354\ttotal: 636ms\tremaining: 604ms\n",
            "513:\tlearn: 0.0240787\ttotal: 637ms\tremaining: 602ms\n",
            "514:\tlearn: 0.0240244\ttotal: 638ms\tremaining: 601ms\n",
            "515:\tlearn: 0.0239640\ttotal: 639ms\tremaining: 600ms\n",
            "516:\tlearn: 0.0239275\ttotal: 640ms\tremaining: 598ms\n",
            "517:\tlearn: 0.0238436\ttotal: 641ms\tremaining: 597ms\n",
            "518:\tlearn: 0.0238092\ttotal: 642ms\tremaining: 595ms\n",
            "519:\tlearn: 0.0237583\ttotal: 643ms\tremaining: 594ms\n",
            "520:\tlearn: 0.0237358\ttotal: 644ms\tremaining: 592ms\n",
            "521:\tlearn: 0.0236830\ttotal: 645ms\tremaining: 591ms\n",
            "522:\tlearn: 0.0236168\ttotal: 646ms\tremaining: 589ms\n",
            "523:\tlearn: 0.0235816\ttotal: 647ms\tremaining: 588ms\n",
            "524:\tlearn: 0.0235524\ttotal: 648ms\tremaining: 586ms\n",
            "525:\tlearn: 0.0234956\ttotal: 649ms\tremaining: 585ms\n",
            "526:\tlearn: 0.0234283\ttotal: 650ms\tremaining: 583ms\n",
            "527:\tlearn: 0.0233703\ttotal: 651ms\tremaining: 582ms\n",
            "528:\tlearn: 0.0233312\ttotal: 652ms\tremaining: 581ms\n",
            "529:\tlearn: 0.0232916\ttotal: 653ms\tremaining: 579ms\n",
            "530:\tlearn: 0.0232162\ttotal: 654ms\tremaining: 578ms\n",
            "531:\tlearn: 0.0231781\ttotal: 655ms\tremaining: 576ms\n",
            "532:\tlearn: 0.0231090\ttotal: 656ms\tremaining: 575ms\n",
            "533:\tlearn: 0.0230703\ttotal: 657ms\tremaining: 573ms\n",
            "534:\tlearn: 0.0229812\ttotal: 658ms\tremaining: 572ms\n",
            "535:\tlearn: 0.0229311\ttotal: 659ms\tremaining: 570ms\n",
            "536:\tlearn: 0.0228810\ttotal: 660ms\tremaining: 569ms\n",
            "537:\tlearn: 0.0228388\ttotal: 661ms\tremaining: 568ms\n",
            "538:\tlearn: 0.0227906\ttotal: 662ms\tremaining: 566ms\n",
            "539:\tlearn: 0.0227321\ttotal: 663ms\tremaining: 565ms\n",
            "540:\tlearn: 0.0226600\ttotal: 664ms\tremaining: 563ms\n",
            "541:\tlearn: 0.0226089\ttotal: 665ms\tremaining: 562ms\n",
            "542:\tlearn: 0.0225773\ttotal: 666ms\tremaining: 560ms\n",
            "543:\tlearn: 0.0225504\ttotal: 667ms\tremaining: 559ms\n",
            "544:\tlearn: 0.0225025\ttotal: 668ms\tremaining: 558ms\n",
            "545:\tlearn: 0.0224573\ttotal: 669ms\tremaining: 556ms\n",
            "546:\tlearn: 0.0224186\ttotal: 670ms\tremaining: 555ms\n",
            "547:\tlearn: 0.0223667\ttotal: 671ms\tremaining: 553ms\n",
            "548:\tlearn: 0.0223348\ttotal: 672ms\tremaining: 552ms\n",
            "549:\tlearn: 0.0222962\ttotal: 673ms\tremaining: 550ms\n",
            "550:\tlearn: 0.0222439\ttotal: 674ms\tremaining: 549ms\n",
            "551:\tlearn: 0.0221990\ttotal: 675ms\tremaining: 548ms\n",
            "552:\tlearn: 0.0221609\ttotal: 676ms\tremaining: 546ms\n",
            "553:\tlearn: 0.0221139\ttotal: 677ms\tremaining: 545ms\n",
            "554:\tlearn: 0.0220608\ttotal: 678ms\tremaining: 543ms\n",
            "555:\tlearn: 0.0219965\ttotal: 679ms\tremaining: 542ms\n",
            "556:\tlearn: 0.0219385\ttotal: 680ms\tremaining: 541ms\n",
            "557:\tlearn: 0.0218680\ttotal: 681ms\tremaining: 539ms\n",
            "558:\tlearn: 0.0218317\ttotal: 682ms\tremaining: 538ms\n",
            "559:\tlearn: 0.0218208\ttotal: 683ms\tremaining: 536ms\n",
            "560:\tlearn: 0.0217726\ttotal: 684ms\tremaining: 535ms\n",
            "561:\tlearn: 0.0217404\ttotal: 684ms\tremaining: 533ms\n",
            "562:\tlearn: 0.0217078\ttotal: 685ms\tremaining: 532ms\n",
            "563:\tlearn: 0.0216423\ttotal: 686ms\tremaining: 531ms\n",
            "564:\tlearn: 0.0215997\ttotal: 687ms\tremaining: 529ms\n",
            "565:\tlearn: 0.0215572\ttotal: 688ms\tremaining: 528ms\n",
            "566:\tlearn: 0.0215152\ttotal: 689ms\tremaining: 526ms\n",
            "567:\tlearn: 0.0214505\ttotal: 690ms\tremaining: 525ms\n",
            "568:\tlearn: 0.0214314\ttotal: 692ms\tremaining: 524ms\n",
            "569:\tlearn: 0.0213788\ttotal: 693ms\tremaining: 523ms\n",
            "570:\tlearn: 0.0213128\ttotal: 695ms\tremaining: 522ms\n",
            "571:\tlearn: 0.0212659\ttotal: 697ms\tremaining: 521ms\n",
            "572:\tlearn: 0.0211951\ttotal: 704ms\tremaining: 524ms\n",
            "573:\tlearn: 0.0211716\ttotal: 705ms\tremaining: 523ms\n",
            "574:\tlearn: 0.0211438\ttotal: 706ms\tremaining: 522ms\n",
            "575:\tlearn: 0.0211008\ttotal: 707ms\tremaining: 520ms\n",
            "576:\tlearn: 0.0210665\ttotal: 708ms\tremaining: 519ms\n",
            "577:\tlearn: 0.0210379\ttotal: 709ms\tremaining: 518ms\n",
            "578:\tlearn: 0.0210007\ttotal: 710ms\tremaining: 516ms\n",
            "579:\tlearn: 0.0209517\ttotal: 711ms\tremaining: 515ms\n",
            "580:\tlearn: 0.0209114\ttotal: 712ms\tremaining: 514ms\n",
            "581:\tlearn: 0.0208706\ttotal: 713ms\tremaining: 512ms\n",
            "582:\tlearn: 0.0208278\ttotal: 714ms\tremaining: 511ms\n",
            "583:\tlearn: 0.0208080\ttotal: 715ms\tremaining: 509ms\n",
            "584:\tlearn: 0.0207947\ttotal: 716ms\tremaining: 508ms\n",
            "585:\tlearn: 0.0207415\ttotal: 719ms\tremaining: 508ms\n",
            "586:\tlearn: 0.0206719\ttotal: 720ms\tremaining: 507ms\n",
            "587:\tlearn: 0.0206446\ttotal: 721ms\tremaining: 505ms\n",
            "588:\tlearn: 0.0205821\ttotal: 722ms\tremaining: 504ms\n",
            "589:\tlearn: 0.0205285\ttotal: 723ms\tremaining: 502ms\n",
            "590:\tlearn: 0.0205026\ttotal: 723ms\tremaining: 501ms\n",
            "591:\tlearn: 0.0204588\ttotal: 724ms\tremaining: 499ms\n",
            "592:\tlearn: 0.0204017\ttotal: 725ms\tremaining: 498ms\n",
            "593:\tlearn: 0.0203650\ttotal: 726ms\tremaining: 496ms\n",
            "594:\tlearn: 0.0203230\ttotal: 727ms\tremaining: 495ms\n",
            "595:\tlearn: 0.0202716\ttotal: 727ms\tremaining: 493ms\n",
            "596:\tlearn: 0.0202207\ttotal: 728ms\tremaining: 491ms\n",
            "597:\tlearn: 0.0201640\ttotal: 729ms\tremaining: 490ms\n",
            "598:\tlearn: 0.0201237\ttotal: 729ms\tremaining: 488ms\n",
            "599:\tlearn: 0.0201016\ttotal: 730ms\tremaining: 487ms\n",
            "600:\tlearn: 0.0200632\ttotal: 731ms\tremaining: 486ms\n",
            "601:\tlearn: 0.0200221\ttotal: 732ms\tremaining: 484ms\n",
            "602:\tlearn: 0.0199812\ttotal: 733ms\tremaining: 483ms\n",
            "603:\tlearn: 0.0199180\ttotal: 734ms\tremaining: 482ms\n",
            "604:\tlearn: 0.0198782\ttotal: 735ms\tremaining: 480ms\n",
            "605:\tlearn: 0.0198581\ttotal: 736ms\tremaining: 479ms\n",
            "606:\tlearn: 0.0198214\ttotal: 737ms\tremaining: 477ms\n",
            "607:\tlearn: 0.0197724\ttotal: 738ms\tremaining: 476ms\n",
            "608:\tlearn: 0.0197195\ttotal: 739ms\tremaining: 475ms\n",
            "609:\tlearn: 0.0196865\ttotal: 740ms\tremaining: 473ms\n",
            "610:\tlearn: 0.0196445\ttotal: 741ms\tremaining: 472ms\n",
            "611:\tlearn: 0.0195677\ttotal: 742ms\tremaining: 471ms\n",
            "612:\tlearn: 0.0195308\ttotal: 743ms\tremaining: 469ms\n",
            "613:\tlearn: 0.0194779\ttotal: 744ms\tremaining: 468ms\n",
            "614:\tlearn: 0.0194298\ttotal: 745ms\tremaining: 467ms\n",
            "615:\tlearn: 0.0193998\ttotal: 746ms\tremaining: 465ms\n",
            "616:\tlearn: 0.0193628\ttotal: 747ms\tremaining: 464ms\n",
            "617:\tlearn: 0.0193177\ttotal: 748ms\tremaining: 462ms\n",
            "618:\tlearn: 0.0192819\ttotal: 749ms\tremaining: 461ms\n",
            "619:\tlearn: 0.0192485\ttotal: 750ms\tremaining: 460ms\n",
            "620:\tlearn: 0.0192041\ttotal: 751ms\tremaining: 458ms\n",
            "621:\tlearn: 0.0191444\ttotal: 752ms\tremaining: 457ms\n",
            "622:\tlearn: 0.0191163\ttotal: 753ms\tremaining: 456ms\n",
            "623:\tlearn: 0.0190809\ttotal: 754ms\tremaining: 454ms\n",
            "624:\tlearn: 0.0190217\ttotal: 755ms\tremaining: 453ms\n",
            "625:\tlearn: 0.0189862\ttotal: 756ms\tremaining: 451ms\n",
            "626:\tlearn: 0.0189644\ttotal: 757ms\tremaining: 450ms\n",
            "627:\tlearn: 0.0189336\ttotal: 758ms\tremaining: 449ms\n",
            "628:\tlearn: 0.0189137\ttotal: 759ms\tremaining: 447ms\n",
            "629:\tlearn: 0.0188637\ttotal: 760ms\tremaining: 446ms\n",
            "630:\tlearn: 0.0188331\ttotal: 761ms\tremaining: 445ms\n",
            "631:\tlearn: 0.0187916\ttotal: 762ms\tremaining: 443ms\n",
            "632:\tlearn: 0.0187426\ttotal: 762ms\tremaining: 442ms\n",
            "633:\tlearn: 0.0187111\ttotal: 763ms\tremaining: 441ms\n",
            "634:\tlearn: 0.0186565\ttotal: 764ms\tremaining: 439ms\n",
            "635:\tlearn: 0.0186397\ttotal: 765ms\tremaining: 438ms\n",
            "636:\tlearn: 0.0186069\ttotal: 766ms\tremaining: 436ms\n",
            "637:\tlearn: 0.0185808\ttotal: 767ms\tremaining: 435ms\n",
            "638:\tlearn: 0.0185562\ttotal: 767ms\tremaining: 433ms\n",
            "639:\tlearn: 0.0185168\ttotal: 768ms\tremaining: 432ms\n",
            "640:\tlearn: 0.0184812\ttotal: 769ms\tremaining: 431ms\n",
            "641:\tlearn: 0.0184511\ttotal: 770ms\tremaining: 429ms\n",
            "642:\tlearn: 0.0184116\ttotal: 771ms\tremaining: 428ms\n",
            "643:\tlearn: 0.0183726\ttotal: 772ms\tremaining: 427ms\n",
            "644:\tlearn: 0.0183077\ttotal: 773ms\tremaining: 425ms\n",
            "645:\tlearn: 0.0182781\ttotal: 774ms\tremaining: 424ms\n",
            "646:\tlearn: 0.0182532\ttotal: 775ms\tremaining: 423ms\n",
            "647:\tlearn: 0.0182077\ttotal: 776ms\tremaining: 421ms\n",
            "648:\tlearn: 0.0181368\ttotal: 777ms\tremaining: 420ms\n",
            "649:\tlearn: 0.0181085\ttotal: 778ms\tremaining: 419ms\n",
            "650:\tlearn: 0.0180871\ttotal: 779ms\tremaining: 418ms\n",
            "651:\tlearn: 0.0180584\ttotal: 780ms\tremaining: 416ms\n",
            "652:\tlearn: 0.0180191\ttotal: 781ms\tremaining: 415ms\n",
            "653:\tlearn: 0.0180004\ttotal: 782ms\tremaining: 414ms\n",
            "654:\tlearn: 0.0179643\ttotal: 784ms\tremaining: 413ms\n",
            "655:\tlearn: 0.0179513\ttotal: 786ms\tremaining: 412ms\n",
            "656:\tlearn: 0.0179119\ttotal: 787ms\tremaining: 411ms\n",
            "657:\tlearn: 0.0178700\ttotal: 788ms\tremaining: 410ms\n",
            "658:\tlearn: 0.0178469\ttotal: 789ms\tremaining: 408ms\n",
            "659:\tlearn: 0.0178375\ttotal: 790ms\tremaining: 407ms\n",
            "660:\tlearn: 0.0177866\ttotal: 791ms\tremaining: 405ms\n",
            "661:\tlearn: 0.0177568\ttotal: 792ms\tremaining: 404ms\n",
            "662:\tlearn: 0.0177326\ttotal: 792ms\tremaining: 403ms\n",
            "663:\tlearn: 0.0176984\ttotal: 793ms\tremaining: 401ms\n",
            "664:\tlearn: 0.0176617\ttotal: 794ms\tremaining: 400ms\n",
            "665:\tlearn: 0.0176304\ttotal: 796ms\tremaining: 399ms\n",
            "666:\tlearn: 0.0176015\ttotal: 797ms\tremaining: 398ms\n",
            "667:\tlearn: 0.0175827\ttotal: 801ms\tremaining: 398ms\n",
            "668:\tlearn: 0.0175419\ttotal: 803ms\tremaining: 397ms\n",
            "669:\tlearn: 0.0175251\ttotal: 804ms\tremaining: 396ms\n",
            "670:\tlearn: 0.0174936\ttotal: 807ms\tremaining: 395ms\n",
            "671:\tlearn: 0.0174659\ttotal: 808ms\tremaining: 394ms\n",
            "672:\tlearn: 0.0174308\ttotal: 810ms\tremaining: 394ms\n",
            "673:\tlearn: 0.0173997\ttotal: 812ms\tremaining: 393ms\n",
            "674:\tlearn: 0.0173655\ttotal: 813ms\tremaining: 391ms\n",
            "675:\tlearn: 0.0173431\ttotal: 814ms\tremaining: 390ms\n",
            "676:\tlearn: 0.0173160\ttotal: 816ms\tremaining: 389ms\n",
            "677:\tlearn: 0.0172682\ttotal: 820ms\tremaining: 389ms\n",
            "678:\tlearn: 0.0172329\ttotal: 821ms\tremaining: 388ms\n",
            "679:\tlearn: 0.0172170\ttotal: 823ms\tremaining: 387ms\n",
            "680:\tlearn: 0.0171943\ttotal: 824ms\tremaining: 386ms\n",
            "681:\tlearn: 0.0171657\ttotal: 825ms\tremaining: 385ms\n",
            "682:\tlearn: 0.0171108\ttotal: 826ms\tremaining: 383ms\n",
            "683:\tlearn: 0.0170799\ttotal: 827ms\tremaining: 382ms\n",
            "684:\tlearn: 0.0170489\ttotal: 828ms\tremaining: 381ms\n",
            "685:\tlearn: 0.0170246\ttotal: 829ms\tremaining: 379ms\n",
            "686:\tlearn: 0.0170067\ttotal: 830ms\tremaining: 378ms\n",
            "687:\tlearn: 0.0169662\ttotal: 831ms\tremaining: 377ms\n",
            "688:\tlearn: 0.0169405\ttotal: 835ms\tremaining: 377ms\n",
            "689:\tlearn: 0.0168960\ttotal: 836ms\tremaining: 376ms\n",
            "690:\tlearn: 0.0168752\ttotal: 838ms\tremaining: 375ms\n",
            "691:\tlearn: 0.0168598\ttotal: 841ms\tremaining: 374ms\n",
            "692:\tlearn: 0.0168423\ttotal: 842ms\tremaining: 373ms\n",
            "693:\tlearn: 0.0168154\ttotal: 844ms\tremaining: 372ms\n",
            "694:\tlearn: 0.0167621\ttotal: 846ms\tremaining: 371ms\n",
            "695:\tlearn: 0.0167347\ttotal: 848ms\tremaining: 370ms\n",
            "696:\tlearn: 0.0167115\ttotal: 849ms\tremaining: 369ms\n",
            "697:\tlearn: 0.0166804\ttotal: 851ms\tremaining: 368ms\n",
            "698:\tlearn: 0.0166663\ttotal: 853ms\tremaining: 367ms\n",
            "699:\tlearn: 0.0166161\ttotal: 855ms\tremaining: 366ms\n",
            "700:\tlearn: 0.0165948\ttotal: 857ms\tremaining: 365ms\n",
            "701:\tlearn: 0.0165625\ttotal: 859ms\tremaining: 365ms\n",
            "702:\tlearn: 0.0165168\ttotal: 861ms\tremaining: 364ms\n",
            "703:\tlearn: 0.0164822\ttotal: 863ms\tremaining: 363ms\n",
            "704:\tlearn: 0.0164452\ttotal: 865ms\tremaining: 362ms\n",
            "705:\tlearn: 0.0164228\ttotal: 866ms\tremaining: 361ms\n",
            "706:\tlearn: 0.0163939\ttotal: 867ms\tremaining: 359ms\n",
            "707:\tlearn: 0.0163714\ttotal: 868ms\tremaining: 358ms\n",
            "708:\tlearn: 0.0163394\ttotal: 869ms\tremaining: 357ms\n",
            "709:\tlearn: 0.0162909\ttotal: 870ms\tremaining: 355ms\n",
            "710:\tlearn: 0.0162491\ttotal: 871ms\tremaining: 354ms\n",
            "711:\tlearn: 0.0162269\ttotal: 872ms\tremaining: 353ms\n",
            "712:\tlearn: 0.0161819\ttotal: 873ms\tremaining: 351ms\n",
            "713:\tlearn: 0.0161277\ttotal: 874ms\tremaining: 350ms\n",
            "714:\tlearn: 0.0160943\ttotal: 875ms\tremaining: 349ms\n",
            "715:\tlearn: 0.0160493\ttotal: 876ms\tremaining: 347ms\n",
            "716:\tlearn: 0.0160134\ttotal: 877ms\tremaining: 346ms\n",
            "717:\tlearn: 0.0159835\ttotal: 878ms\tremaining: 345ms\n",
            "718:\tlearn: 0.0159528\ttotal: 879ms\tremaining: 343ms\n",
            "719:\tlearn: 0.0159338\ttotal: 880ms\tremaining: 342ms\n",
            "720:\tlearn: 0.0159152\ttotal: 881ms\tremaining: 341ms\n",
            "721:\tlearn: 0.0158865\ttotal: 882ms\tremaining: 339ms\n",
            "722:\tlearn: 0.0158769\ttotal: 882ms\tremaining: 338ms\n",
            "723:\tlearn: 0.0158237\ttotal: 883ms\tremaining: 337ms\n",
            "724:\tlearn: 0.0157866\ttotal: 884ms\tremaining: 335ms\n",
            "725:\tlearn: 0.0157655\ttotal: 885ms\tremaining: 334ms\n",
            "726:\tlearn: 0.0157205\ttotal: 886ms\tremaining: 333ms\n",
            "727:\tlearn: 0.0156872\ttotal: 887ms\tremaining: 331ms\n",
            "728:\tlearn: 0.0156617\ttotal: 888ms\tremaining: 330ms\n",
            "729:\tlearn: 0.0156321\ttotal: 889ms\tremaining: 329ms\n",
            "730:\tlearn: 0.0156051\ttotal: 890ms\tremaining: 328ms\n",
            "731:\tlearn: 0.0155672\ttotal: 891ms\tremaining: 326ms\n",
            "732:\tlearn: 0.0155463\ttotal: 892ms\tremaining: 325ms\n",
            "733:\tlearn: 0.0155160\ttotal: 893ms\tremaining: 324ms\n",
            "734:\tlearn: 0.0154952\ttotal: 894ms\tremaining: 322ms\n",
            "735:\tlearn: 0.0154719\ttotal: 895ms\tremaining: 321ms\n",
            "736:\tlearn: 0.0154531\ttotal: 896ms\tremaining: 320ms\n",
            "737:\tlearn: 0.0154256\ttotal: 897ms\tremaining: 318ms\n",
            "738:\tlearn: 0.0154143\ttotal: 898ms\tremaining: 317ms\n",
            "739:\tlearn: 0.0153788\ttotal: 899ms\tremaining: 316ms\n",
            "740:\tlearn: 0.0153544\ttotal: 900ms\tremaining: 315ms\n",
            "741:\tlearn: 0.0153285\ttotal: 902ms\tremaining: 314ms\n",
            "742:\tlearn: 0.0152920\ttotal: 903ms\tremaining: 312ms\n",
            "743:\tlearn: 0.0152698\ttotal: 904ms\tremaining: 311ms\n",
            "744:\tlearn: 0.0152379\ttotal: 904ms\tremaining: 310ms\n",
            "745:\tlearn: 0.0152237\ttotal: 905ms\tremaining: 308ms\n",
            "746:\tlearn: 0.0152149\ttotal: 906ms\tremaining: 307ms\n",
            "747:\tlearn: 0.0152008\ttotal: 907ms\tremaining: 306ms\n",
            "748:\tlearn: 0.0151559\ttotal: 908ms\tremaining: 304ms\n",
            "749:\tlearn: 0.0151334\ttotal: 909ms\tremaining: 303ms\n",
            "750:\tlearn: 0.0150962\ttotal: 910ms\tremaining: 302ms\n",
            "751:\tlearn: 0.0150759\ttotal: 911ms\tremaining: 300ms\n",
            "752:\tlearn: 0.0150478\ttotal: 911ms\tremaining: 299ms\n",
            "753:\tlearn: 0.0150251\ttotal: 912ms\tremaining: 298ms\n",
            "754:\tlearn: 0.0149949\ttotal: 914ms\tremaining: 296ms\n",
            "755:\tlearn: 0.0149542\ttotal: 915ms\tremaining: 295ms\n",
            "756:\tlearn: 0.0149197\ttotal: 915ms\tremaining: 294ms\n",
            "757:\tlearn: 0.0148766\ttotal: 916ms\tremaining: 293ms\n",
            "758:\tlearn: 0.0148571\ttotal: 917ms\tremaining: 291ms\n",
            "759:\tlearn: 0.0148355\ttotal: 918ms\tremaining: 290ms\n",
            "760:\tlearn: 0.0147951\ttotal: 919ms\tremaining: 289ms\n",
            "761:\tlearn: 0.0147566\ttotal: 920ms\tremaining: 287ms\n",
            "762:\tlearn: 0.0147396\ttotal: 921ms\tremaining: 286ms\n",
            "763:\tlearn: 0.0147188\ttotal: 922ms\tremaining: 285ms\n",
            "764:\tlearn: 0.0146949\ttotal: 924ms\tremaining: 284ms\n",
            "765:\tlearn: 0.0146667\ttotal: 925ms\tremaining: 282ms\n",
            "766:\tlearn: 0.0146355\ttotal: 925ms\tremaining: 281ms\n",
            "767:\tlearn: 0.0146057\ttotal: 926ms\tremaining: 280ms\n",
            "768:\tlearn: 0.0145829\ttotal: 927ms\tremaining: 279ms\n",
            "769:\tlearn: 0.0145631\ttotal: 929ms\tremaining: 277ms\n",
            "770:\tlearn: 0.0145397\ttotal: 930ms\tremaining: 276ms\n",
            "771:\tlearn: 0.0145243\ttotal: 931ms\tremaining: 275ms\n",
            "772:\tlearn: 0.0144883\ttotal: 932ms\tremaining: 274ms\n",
            "773:\tlearn: 0.0144539\ttotal: 933ms\tremaining: 272ms\n",
            "774:\tlearn: 0.0144275\ttotal: 934ms\tremaining: 271ms\n",
            "775:\tlearn: 0.0144065\ttotal: 935ms\tremaining: 270ms\n",
            "776:\tlearn: 0.0143824\ttotal: 936ms\tremaining: 269ms\n",
            "777:\tlearn: 0.0143575\ttotal: 937ms\tremaining: 267ms\n",
            "778:\tlearn: 0.0143317\ttotal: 938ms\tremaining: 266ms\n",
            "779:\tlearn: 0.0143167\ttotal: 939ms\tremaining: 265ms\n",
            "780:\tlearn: 0.0142879\ttotal: 940ms\tremaining: 264ms\n",
            "781:\tlearn: 0.0142705\ttotal: 941ms\tremaining: 262ms\n",
            "782:\tlearn: 0.0142439\ttotal: 942ms\tremaining: 261ms\n",
            "783:\tlearn: 0.0142314\ttotal: 943ms\tremaining: 260ms\n",
            "784:\tlearn: 0.0142103\ttotal: 944ms\tremaining: 258ms\n",
            "785:\tlearn: 0.0141813\ttotal: 945ms\tremaining: 257ms\n",
            "786:\tlearn: 0.0141615\ttotal: 946ms\tremaining: 256ms\n",
            "787:\tlearn: 0.0141314\ttotal: 947ms\tremaining: 255ms\n",
            "788:\tlearn: 0.0141112\ttotal: 948ms\tremaining: 253ms\n",
            "789:\tlearn: 0.0140867\ttotal: 948ms\tremaining: 252ms\n",
            "790:\tlearn: 0.0140516\ttotal: 949ms\tremaining: 251ms\n",
            "791:\tlearn: 0.0140274\ttotal: 950ms\tremaining: 250ms\n",
            "792:\tlearn: 0.0140068\ttotal: 951ms\tremaining: 248ms\n",
            "793:\tlearn: 0.0139792\ttotal: 952ms\tremaining: 247ms\n",
            "794:\tlearn: 0.0139569\ttotal: 953ms\tremaining: 246ms\n",
            "795:\tlearn: 0.0139291\ttotal: 954ms\tremaining: 245ms\n",
            "796:\tlearn: 0.0139109\ttotal: 956ms\tremaining: 243ms\n",
            "797:\tlearn: 0.0138903\ttotal: 957ms\tremaining: 242ms\n",
            "798:\tlearn: 0.0138721\ttotal: 958ms\tremaining: 241ms\n",
            "799:\tlearn: 0.0138559\ttotal: 959ms\tremaining: 240ms\n",
            "800:\tlearn: 0.0138147\ttotal: 960ms\tremaining: 239ms\n",
            "801:\tlearn: 0.0137814\ttotal: 961ms\tremaining: 237ms\n",
            "802:\tlearn: 0.0137647\ttotal: 962ms\tremaining: 236ms\n",
            "803:\tlearn: 0.0137418\ttotal: 963ms\tremaining: 235ms\n",
            "804:\tlearn: 0.0137156\ttotal: 965ms\tremaining: 234ms\n",
            "805:\tlearn: 0.0136959\ttotal: 966ms\tremaining: 232ms\n",
            "806:\tlearn: 0.0136670\ttotal: 967ms\tremaining: 231ms\n",
            "807:\tlearn: 0.0136490\ttotal: 967ms\tremaining: 230ms\n",
            "808:\tlearn: 0.0136258\ttotal: 968ms\tremaining: 229ms\n",
            "809:\tlearn: 0.0135897\ttotal: 969ms\tremaining: 227ms\n",
            "810:\tlearn: 0.0135707\ttotal: 970ms\tremaining: 226ms\n",
            "811:\tlearn: 0.0135319\ttotal: 972ms\tremaining: 225ms\n",
            "812:\tlearn: 0.0135090\ttotal: 975ms\tremaining: 224ms\n",
            "813:\tlearn: 0.0134763\ttotal: 976ms\tremaining: 223ms\n",
            "814:\tlearn: 0.0134579\ttotal: 979ms\tremaining: 222ms\n",
            "815:\tlearn: 0.0134397\ttotal: 980ms\tremaining: 221ms\n",
            "816:\tlearn: 0.0134309\ttotal: 982ms\tremaining: 220ms\n",
            "817:\tlearn: 0.0134048\ttotal: 983ms\tremaining: 219ms\n",
            "818:\tlearn: 0.0133881\ttotal: 984ms\tremaining: 217ms\n",
            "819:\tlearn: 0.0133656\ttotal: 985ms\tremaining: 216ms\n",
            "820:\tlearn: 0.0133475\ttotal: 986ms\tremaining: 215ms\n",
            "821:\tlearn: 0.0133270\ttotal: 987ms\tremaining: 214ms\n",
            "822:\tlearn: 0.0133110\ttotal: 988ms\tremaining: 212ms\n",
            "823:\tlearn: 0.0132848\ttotal: 989ms\tremaining: 211ms\n",
            "824:\tlearn: 0.0132544\ttotal: 990ms\tremaining: 210ms\n",
            "825:\tlearn: 0.0132426\ttotal: 991ms\tremaining: 209ms\n",
            "826:\tlearn: 0.0132257\ttotal: 992ms\tremaining: 208ms\n",
            "827:\tlearn: 0.0131941\ttotal: 993ms\tremaining: 206ms\n",
            "828:\tlearn: 0.0131671\ttotal: 994ms\tremaining: 205ms\n",
            "829:\tlearn: 0.0131439\ttotal: 995ms\tremaining: 204ms\n",
            "830:\tlearn: 0.0131224\ttotal: 996ms\tremaining: 203ms\n",
            "831:\tlearn: 0.0131004\ttotal: 997ms\tremaining: 201ms\n",
            "832:\tlearn: 0.0130716\ttotal: 998ms\tremaining: 200ms\n",
            "833:\tlearn: 0.0130483\ttotal: 999ms\tremaining: 199ms\n",
            "834:\tlearn: 0.0130274\ttotal: 1s\tremaining: 198ms\n",
            "835:\tlearn: 0.0130032\ttotal: 1s\tremaining: 196ms\n",
            "836:\tlearn: 0.0129657\ttotal: 1s\tremaining: 195ms\n",
            "837:\tlearn: 0.0129443\ttotal: 1s\tremaining: 194ms\n",
            "838:\tlearn: 0.0129279\ttotal: 1s\tremaining: 193ms\n",
            "839:\tlearn: 0.0128926\ttotal: 1s\tremaining: 191ms\n",
            "840:\tlearn: 0.0128672\ttotal: 1.01s\tremaining: 190ms\n",
            "841:\tlearn: 0.0128437\ttotal: 1.01s\tremaining: 189ms\n",
            "842:\tlearn: 0.0128142\ttotal: 1.01s\tremaining: 188ms\n",
            "843:\tlearn: 0.0127748\ttotal: 1.01s\tremaining: 187ms\n",
            "844:\tlearn: 0.0127642\ttotal: 1.01s\tremaining: 185ms\n",
            "845:\tlearn: 0.0127424\ttotal: 1.01s\tremaining: 184ms\n",
            "846:\tlearn: 0.0127153\ttotal: 1.01s\tremaining: 183ms\n",
            "847:\tlearn: 0.0126792\ttotal: 1.01s\tremaining: 182ms\n",
            "848:\tlearn: 0.0126619\ttotal: 1.01s\tremaining: 180ms\n",
            "849:\tlearn: 0.0126419\ttotal: 1.01s\tremaining: 179ms\n",
            "850:\tlearn: 0.0126214\ttotal: 1.02s\tremaining: 178ms\n",
            "851:\tlearn: 0.0125992\ttotal: 1.02s\tremaining: 177ms\n",
            "852:\tlearn: 0.0125750\ttotal: 1.02s\tremaining: 176ms\n",
            "853:\tlearn: 0.0125501\ttotal: 1.02s\tremaining: 174ms\n",
            "854:\tlearn: 0.0125278\ttotal: 1.02s\tremaining: 173ms\n",
            "855:\tlearn: 0.0125076\ttotal: 1.02s\tremaining: 172ms\n",
            "856:\tlearn: 0.0124923\ttotal: 1.02s\tremaining: 171ms\n",
            "857:\tlearn: 0.0124777\ttotal: 1.02s\tremaining: 169ms\n",
            "858:\tlearn: 0.0124569\ttotal: 1.02s\tremaining: 168ms\n",
            "859:\tlearn: 0.0124363\ttotal: 1.02s\tremaining: 167ms\n",
            "860:\tlearn: 0.0124203\ttotal: 1.03s\tremaining: 166ms\n",
            "861:\tlearn: 0.0124031\ttotal: 1.03s\tremaining: 165ms\n",
            "862:\tlearn: 0.0123787\ttotal: 1.03s\tremaining: 163ms\n",
            "863:\tlearn: 0.0123567\ttotal: 1.03s\tremaining: 162ms\n",
            "864:\tlearn: 0.0123297\ttotal: 1.03s\tremaining: 161ms\n",
            "865:\tlearn: 0.0123082\ttotal: 1.03s\tremaining: 160ms\n",
            "866:\tlearn: 0.0122804\ttotal: 1.03s\tremaining: 159ms\n",
            "867:\tlearn: 0.0122540\ttotal: 1.03s\tremaining: 157ms\n",
            "868:\tlearn: 0.0122327\ttotal: 1.04s\tremaining: 156ms\n",
            "869:\tlearn: 0.0122188\ttotal: 1.04s\tremaining: 155ms\n",
            "870:\tlearn: 0.0121920\ttotal: 1.04s\tremaining: 154ms\n",
            "871:\tlearn: 0.0121821\ttotal: 1.04s\tremaining: 153ms\n",
            "872:\tlearn: 0.0121582\ttotal: 1.04s\tremaining: 151ms\n",
            "873:\tlearn: 0.0121362\ttotal: 1.04s\tremaining: 150ms\n",
            "874:\tlearn: 0.0121151\ttotal: 1.04s\tremaining: 149ms\n",
            "875:\tlearn: 0.0120979\ttotal: 1.04s\tremaining: 148ms\n",
            "876:\tlearn: 0.0120911\ttotal: 1.04s\tremaining: 146ms\n",
            "877:\tlearn: 0.0120743\ttotal: 1.04s\tremaining: 145ms\n",
            "878:\tlearn: 0.0120567\ttotal: 1.05s\tremaining: 144ms\n",
            "879:\tlearn: 0.0120379\ttotal: 1.05s\tremaining: 143ms\n",
            "880:\tlearn: 0.0120140\ttotal: 1.05s\tremaining: 142ms\n",
            "881:\tlearn: 0.0119972\ttotal: 1.05s\tremaining: 140ms\n",
            "882:\tlearn: 0.0119803\ttotal: 1.05s\tremaining: 139ms\n",
            "883:\tlearn: 0.0119578\ttotal: 1.05s\tremaining: 138ms\n",
            "884:\tlearn: 0.0119375\ttotal: 1.05s\tremaining: 137ms\n",
            "885:\tlearn: 0.0119191\ttotal: 1.05s\tremaining: 135ms\n",
            "886:\tlearn: 0.0119023\ttotal: 1.05s\tremaining: 134ms\n",
            "887:\tlearn: 0.0118915\ttotal: 1.05s\tremaining: 133ms\n",
            "888:\tlearn: 0.0118821\ttotal: 1.05s\tremaining: 132ms\n",
            "889:\tlearn: 0.0118676\ttotal: 1.06s\tremaining: 131ms\n",
            "890:\tlearn: 0.0118496\ttotal: 1.06s\tremaining: 129ms\n",
            "891:\tlearn: 0.0118307\ttotal: 1.06s\tremaining: 128ms\n",
            "892:\tlearn: 0.0118129\ttotal: 1.06s\tremaining: 127ms\n",
            "893:\tlearn: 0.0117994\ttotal: 1.06s\tremaining: 126ms\n",
            "894:\tlearn: 0.0117679\ttotal: 1.06s\tremaining: 125ms\n",
            "895:\tlearn: 0.0117422\ttotal: 1.06s\tremaining: 123ms\n",
            "896:\tlearn: 0.0117353\ttotal: 1.06s\tremaining: 122ms\n",
            "897:\tlearn: 0.0117109\ttotal: 1.06s\tremaining: 121ms\n",
            "898:\tlearn: 0.0116875\ttotal: 1.07s\tremaining: 120ms\n",
            "899:\tlearn: 0.0116654\ttotal: 1.07s\tremaining: 119ms\n",
            "900:\tlearn: 0.0116496\ttotal: 1.07s\tremaining: 117ms\n",
            "901:\tlearn: 0.0116355\ttotal: 1.07s\tremaining: 116ms\n",
            "902:\tlearn: 0.0116239\ttotal: 1.07s\tremaining: 115ms\n",
            "903:\tlearn: 0.0116055\ttotal: 1.07s\tremaining: 114ms\n",
            "904:\tlearn: 0.0115920\ttotal: 1.07s\tremaining: 112ms\n",
            "905:\tlearn: 0.0115619\ttotal: 1.07s\tremaining: 111ms\n",
            "906:\tlearn: 0.0115433\ttotal: 1.07s\tremaining: 110ms\n",
            "907:\tlearn: 0.0115371\ttotal: 1.07s\tremaining: 109ms\n",
            "908:\tlearn: 0.0115110\ttotal: 1.07s\tremaining: 108ms\n",
            "909:\tlearn: 0.0114876\ttotal: 1.08s\tremaining: 106ms\n",
            "910:\tlearn: 0.0114714\ttotal: 1.08s\tremaining: 105ms\n",
            "911:\tlearn: 0.0114544\ttotal: 1.08s\tremaining: 104ms\n",
            "912:\tlearn: 0.0114430\ttotal: 1.08s\tremaining: 103ms\n",
            "913:\tlearn: 0.0114279\ttotal: 1.08s\tremaining: 102ms\n",
            "914:\tlearn: 0.0114145\ttotal: 1.08s\tremaining: 100ms\n",
            "915:\tlearn: 0.0113981\ttotal: 1.08s\tremaining: 99.3ms\n",
            "916:\tlearn: 0.0113822\ttotal: 1.08s\tremaining: 98.1ms\n",
            "917:\tlearn: 0.0113676\ttotal: 1.08s\tremaining: 96.9ms\n",
            "918:\tlearn: 0.0113401\ttotal: 1.08s\tremaining: 95.7ms\n",
            "919:\tlearn: 0.0113240\ttotal: 1.09s\tremaining: 94.5ms\n",
            "920:\tlearn: 0.0112952\ttotal: 1.09s\tremaining: 93.3ms\n",
            "921:\tlearn: 0.0112792\ttotal: 1.09s\tremaining: 92.1ms\n",
            "922:\tlearn: 0.0112661\ttotal: 1.09s\tremaining: 90.9ms\n",
            "923:\tlearn: 0.0112518\ttotal: 1.09s\tremaining: 89.7ms\n",
            "924:\tlearn: 0.0112307\ttotal: 1.09s\tremaining: 88.5ms\n",
            "925:\tlearn: 0.0112119\ttotal: 1.09s\tremaining: 87.3ms\n",
            "926:\tlearn: 0.0111816\ttotal: 1.09s\tremaining: 86.1ms\n",
            "927:\tlearn: 0.0111651\ttotal: 1.09s\tremaining: 85ms\n",
            "928:\tlearn: 0.0111489\ttotal: 1.09s\tremaining: 83.8ms\n",
            "929:\tlearn: 0.0111270\ttotal: 1.1s\tremaining: 82.6ms\n",
            "930:\tlearn: 0.0111100\ttotal: 1.1s\tremaining: 81.4ms\n",
            "931:\tlearn: 0.0110955\ttotal: 1.1s\tremaining: 80.2ms\n",
            "932:\tlearn: 0.0110773\ttotal: 1.1s\tremaining: 79ms\n",
            "933:\tlearn: 0.0110557\ttotal: 1.1s\tremaining: 77.8ms\n",
            "934:\tlearn: 0.0110396\ttotal: 1.1s\tremaining: 76.6ms\n",
            "935:\tlearn: 0.0110277\ttotal: 1.1s\tremaining: 75.4ms\n",
            "936:\tlearn: 0.0110152\ttotal: 1.1s\tremaining: 74.2ms\n",
            "937:\tlearn: 0.0109972\ttotal: 1.1s\tremaining: 73ms\n",
            "938:\tlearn: 0.0109876\ttotal: 1.1s\tremaining: 71.8ms\n",
            "939:\tlearn: 0.0109628\ttotal: 1.11s\tremaining: 70.6ms\n",
            "940:\tlearn: 0.0109508\ttotal: 1.11s\tremaining: 69.5ms\n",
            "941:\tlearn: 0.0109265\ttotal: 1.11s\tremaining: 68.3ms\n",
            "942:\tlearn: 0.0109047\ttotal: 1.11s\tremaining: 67.1ms\n",
            "943:\tlearn: 0.0108795\ttotal: 1.11s\tremaining: 65.9ms\n",
            "944:\tlearn: 0.0108616\ttotal: 1.11s\tremaining: 64.7ms\n",
            "945:\tlearn: 0.0108525\ttotal: 1.11s\tremaining: 63.5ms\n",
            "946:\tlearn: 0.0108373\ttotal: 1.11s\tremaining: 62.3ms\n",
            "947:\tlearn: 0.0108164\ttotal: 1.11s\tremaining: 61.2ms\n",
            "948:\tlearn: 0.0107952\ttotal: 1.11s\tremaining: 60ms\n",
            "949:\tlearn: 0.0107777\ttotal: 1.12s\tremaining: 58.8ms\n",
            "950:\tlearn: 0.0107597\ttotal: 1.12s\tremaining: 57.6ms\n",
            "951:\tlearn: 0.0107429\ttotal: 1.12s\tremaining: 56.4ms\n",
            "952:\tlearn: 0.0107297\ttotal: 1.12s\tremaining: 55.2ms\n",
            "953:\tlearn: 0.0107133\ttotal: 1.12s\tremaining: 54ms\n",
            "954:\tlearn: 0.0106954\ttotal: 1.12s\tremaining: 52.9ms\n",
            "955:\tlearn: 0.0106814\ttotal: 1.12s\tremaining: 51.7ms\n",
            "956:\tlearn: 0.0106642\ttotal: 1.12s\tremaining: 50.5ms\n",
            "957:\tlearn: 0.0106473\ttotal: 1.12s\tremaining: 49.3ms\n",
            "958:\tlearn: 0.0106318\ttotal: 1.13s\tremaining: 48.1ms\n",
            "959:\tlearn: 0.0106027\ttotal: 1.13s\tremaining: 47ms\n",
            "960:\tlearn: 0.0105830\ttotal: 1.13s\tremaining: 45.8ms\n",
            "961:\tlearn: 0.0105498\ttotal: 1.13s\tremaining: 44.6ms\n",
            "962:\tlearn: 0.0105346\ttotal: 1.13s\tremaining: 43.4ms\n",
            "963:\tlearn: 0.0105129\ttotal: 1.13s\tremaining: 42.2ms\n",
            "964:\tlearn: 0.0104914\ttotal: 1.13s\tremaining: 41ms\n",
            "965:\tlearn: 0.0104720\ttotal: 1.13s\tremaining: 39.9ms\n",
            "966:\tlearn: 0.0104568\ttotal: 1.13s\tremaining: 38.7ms\n",
            "967:\tlearn: 0.0104345\ttotal: 1.13s\tremaining: 37.5ms\n",
            "968:\tlearn: 0.0104196\ttotal: 1.14s\tremaining: 36.3ms\n",
            "969:\tlearn: 0.0104039\ttotal: 1.14s\tremaining: 35.2ms\n",
            "970:\tlearn: 0.0103913\ttotal: 1.14s\tremaining: 34ms\n",
            "971:\tlearn: 0.0103755\ttotal: 1.14s\tremaining: 32.8ms\n",
            "972:\tlearn: 0.0103542\ttotal: 1.14s\tremaining: 31.6ms\n",
            "973:\tlearn: 0.0103393\ttotal: 1.14s\tremaining: 30.4ms\n",
            "974:\tlearn: 0.0103187\ttotal: 1.15s\tremaining: 29.4ms\n",
            "975:\tlearn: 0.0103031\ttotal: 1.15s\tremaining: 28.3ms\n",
            "976:\tlearn: 0.0102928\ttotal: 1.15s\tremaining: 27.1ms\n",
            "977:\tlearn: 0.0102743\ttotal: 1.15s\tremaining: 26ms\n",
            "978:\tlearn: 0.0102560\ttotal: 1.16s\tremaining: 24.8ms\n",
            "979:\tlearn: 0.0102383\ttotal: 1.16s\tremaining: 23.7ms\n",
            "980:\tlearn: 0.0102238\ttotal: 1.16s\tremaining: 22.5ms\n",
            "981:\tlearn: 0.0102120\ttotal: 1.16s\tremaining: 21.3ms\n",
            "982:\tlearn: 0.0101901\ttotal: 1.17s\tremaining: 20.2ms\n",
            "983:\tlearn: 0.0101744\ttotal: 1.17s\tremaining: 19ms\n",
            "984:\tlearn: 0.0101537\ttotal: 1.17s\tremaining: 17.8ms\n",
            "985:\tlearn: 0.0101323\ttotal: 1.17s\tremaining: 16.6ms\n",
            "986:\tlearn: 0.0101127\ttotal: 1.17s\tremaining: 15.5ms\n",
            "987:\tlearn: 0.0100979\ttotal: 1.18s\tremaining: 14.3ms\n",
            "988:\tlearn: 0.0100886\ttotal: 1.18s\tremaining: 13.1ms\n",
            "989:\tlearn: 0.0100760\ttotal: 1.18s\tremaining: 11.9ms\n",
            "990:\tlearn: 0.0100535\ttotal: 1.18s\tremaining: 10.7ms\n",
            "991:\tlearn: 0.0100276\ttotal: 1.18s\tremaining: 9.53ms\n",
            "992:\tlearn: 0.0100040\ttotal: 1.18s\tremaining: 8.35ms\n",
            "993:\tlearn: 0.0099849\ttotal: 1.19s\tremaining: 7.16ms\n",
            "994:\tlearn: 0.0099666\ttotal: 1.19s\tremaining: 5.96ms\n",
            "995:\tlearn: 0.0099477\ttotal: 1.19s\tremaining: 4.8ms\n",
            "996:\tlearn: 0.0099366\ttotal: 1.2s\tremaining: 3.6ms\n",
            "997:\tlearn: 0.0099203\ttotal: 1.2s\tremaining: 2.4ms\n",
            "998:\tlearn: 0.0099016\ttotal: 1.2s\tremaining: 1.2ms\n",
            "999:\tlearn: 0.0098810\ttotal: 1.2s\tremaining: 0us\n"
          ]
        },
        {
          "output_type": "execute_result",
          "data": {
            "text/plain": [
              "<catboost.core.CatBoostClassifier at 0x7fa586298820>"
            ]
          },
          "metadata": {},
          "execution_count": 25
        }
      ]
    },
    {
      "cell_type": "code",
      "source": [
        "from sklearn.metrics import confusion_matrix, accuracy_score\n",
        "y_pred = cat_boost.predict(X_test)\n",
        "cm = confusion_matrix(y_test, y_pred)\n",
        "print(cm)\n",
        "print('Accuracy: {:.2f}%'.format(accuracy_score(y_test, y_pred)*100))"
      ],
      "metadata": {
        "colab": {
          "base_uri": "https://localhost:8080/"
        },
        "id": "ahfE2getHkjd",
        "outputId": "434d3858-62a4-4d55-a2a8-d3f18e24374a"
      },
      "execution_count": 26,
      "outputs": [
        {
          "output_type": "stream",
          "name": "stdout",
          "text": [
            "[[103   4]\n",
            " [  5  59]]\n",
            "Accuracy: 94.74%\n"
          ]
        }
      ]
    },
    {
      "cell_type": "markdown",
      "source": [
        "##K-fold cross validation\n"
      ],
      "metadata": {
        "id": "gPMdMbBDmKWQ"
      }
    },
    {
      "cell_type": "code",
      "source": [
        "from sklearn.model_selection import cross_val_score\n",
        "accuracies = cross_val_score(estimator = classifier4, X = X_train, y = y_train, cv = 10) #Kernel_Svm\n",
        "print(\"Accuracy: {:.2f} %\".format(accuracies.mean()*100))\n",
        "print(\"Standard Deviation: {:.2f} %\".format(accuracies.std()*100))"
      ],
      "metadata": {
        "id": "hsyAR9QVHlcq",
        "colab": {
          "base_uri": "https://localhost:8080/"
        },
        "outputId": "3ba3637e-1378-46a5-d994-08d52e7cc524"
      },
      "execution_count": 28,
      "outputs": [
        {
          "output_type": "stream",
          "name": "stdout",
          "text": [
            "Accuracy: 97.47 %\n",
            "Standard Deviation: 2.14 %\n"
          ]
        }
      ]
    },
    {
      "cell_type": "markdown",
      "source": [
        "We get best accuracy of 97.47% using Kernel_Svm. "
      ],
      "metadata": {
        "id": "sneIxj7JndMz"
      }
    },
    {
      "cell_type": "code",
      "source": [],
      "metadata": {
        "id": "bLJgACFknRI3"
      },
      "execution_count": null,
      "outputs": []
    }
  ]
}